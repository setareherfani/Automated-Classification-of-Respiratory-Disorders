{
 "cells": [
  {
   "cell_type": "markdown",
   "metadata": {},
   "source": [
    "# XGB classfier"
   ]
  },
  {
   "cell_type": "code",
   "execution_count": 3,
   "metadata": {},
   "outputs": [
    {
     "name": "stderr",
     "output_type": "stream",
     "text": [
      "Using TensorFlow backend.\n"
     ]
    }
   ],
   "source": [
    "# modules and libraries\n",
    "import time\n",
    "import os\n",
    "import glob\n",
    "import datetime\n",
    "import time as tiempos\n",
    "from time import time\n",
    "import pandas as pd\n",
    "import numpy as np\n",
    "import matplotlib.pyplot as plt\n",
    "from numpy.fft import ifft\n",
    "from scipy.fftpack import fft\n",
    "import scipy\n",
    "import scipy.stats as stats\n",
    "from scipy import signal\n",
    "import wave, struct\n",
    "from pylab import *\n",
    "import scipy.signal.signaltools as sigtool\n",
    "import wave, struct\n",
    "import xgboost as xgb\n",
    "from xgboost import XGBClassifier\n",
    "from xgboost import plot_importance\n",
    "import seaborn as sns\n",
    "import statsmodels.api as sm\n",
    "from sklearn.model_selection import train_test_split\n",
    "from sklearn.linear_model import LinearRegression\n",
    "from sklearn.feature_selection import RFE\n",
    "from sklearn.linear_model import RidgeCV, LassoCV, Ridge, Lasso\n",
    "from sklearn.pipeline import Pipeline\n",
    "from sklearn.svm import LinearSVC\n",
    "from sklearn.ensemble import RandomForestClassifier\n",
    "from sklearn.metrics import accuracy_score\n",
    "import math\n",
    "from tqdm import tqdm\n",
    "from sklearn.feature_selection import SelectKBest,f_classif\n",
    "from sklearn.pipeline import make_pipeline\n",
    "from sklearn.preprocessing import MinMaxScaler\n",
    "from os import listdir\n",
    "from datetime import datetime\n",
    "from os.path import isfile, join\n",
    "from keras.layers import Dense, Embedding, LSTM, SpatialDropout1D\n",
    "from keras.models import Sequential\n",
    "from sklearn.feature_extraction.text import CountVectorizer\n",
    "from keras.preprocessing.text import Tokenizer\n",
    "from keras.preprocessing.sequence import pad_sequences\n",
    "from sklearn.model_selection import train_test_split\n",
    "from keras.utils.np_utils import to_categorical\n",
    "from keras.callbacks import EarlyStopping\n",
    "from tensorflow.keras.models import Sequential\n",
    "from tensorflow.keras.layers import Dense, Dropout, Conv2D, MaxPooling2D, GlobalAveragePooling2D\n",
    "from keras.utils import to_categorical\n",
    "from tensorflow.keras.callbacks import ModelCheckpoint\n",
    "from sklearn.metrics import confusion_matrix, classification_report, roc_curve, auc\n",
    "from sklearn.model_selection import train_test_split\n",
    "from sklearn.preprocessing import LabelEncoder\n",
    "import sklearn"
   ]
  },
  {
   "cell_type": "code",
   "execution_count": 7,
   "metadata": {},
   "outputs": [
    {
     "name": "stdout",
     "output_type": "stream",
     "text": [
      "M    79\n",
      "F    46\n",
      "Name: Sex, dtype: int64\n"
     ]
    },
    {
     "data": {
      "text/html": [
       "<div>\n",
       "<style scoped>\n",
       "    .dataframe tbody tr th:only-of-type {\n",
       "        vertical-align: middle;\n",
       "    }\n",
       "\n",
       "    .dataframe tbody tr th {\n",
       "        vertical-align: top;\n",
       "    }\n",
       "\n",
       "    .dataframe thead th {\n",
       "        text-align: right;\n",
       "    }\n",
       "</style>\n",
       "<table border=\"1\" class=\"dataframe\">\n",
       "  <thead>\n",
       "    <tr style=\"text-align: right;\">\n",
       "      <th></th>\n",
       "      <th>Patient number</th>\n",
       "      <th>Age</th>\n",
       "      <th>Sex</th>\n",
       "      <th>Adult BMI (kg/m2)</th>\n",
       "      <th>Child Weight (kg)</th>\n",
       "      <th>Child Height (cm)</th>\n",
       "    </tr>\n",
       "  </thead>\n",
       "  <tbody>\n",
       "    <tr>\n",
       "      <th>0</th>\n",
       "      <td>101</td>\n",
       "      <td>3.00</td>\n",
       "      <td>F</td>\n",
       "      <td>NaN</td>\n",
       "      <td>19.0</td>\n",
       "      <td>99.0</td>\n",
       "    </tr>\n",
       "    <tr>\n",
       "      <th>1</th>\n",
       "      <td>102</td>\n",
       "      <td>0.75</td>\n",
       "      <td>F</td>\n",
       "      <td>NaN</td>\n",
       "      <td>9.8</td>\n",
       "      <td>73.0</td>\n",
       "    </tr>\n",
       "    <tr>\n",
       "      <th>2</th>\n",
       "      <td>103</td>\n",
       "      <td>70.00</td>\n",
       "      <td>F</td>\n",
       "      <td>33.00</td>\n",
       "      <td>NaN</td>\n",
       "      <td>NaN</td>\n",
       "    </tr>\n",
       "    <tr>\n",
       "      <th>3</th>\n",
       "      <td>104</td>\n",
       "      <td>70.00</td>\n",
       "      <td>F</td>\n",
       "      <td>28.47</td>\n",
       "      <td>NaN</td>\n",
       "      <td>NaN</td>\n",
       "    </tr>\n",
       "    <tr>\n",
       "      <th>4</th>\n",
       "      <td>105</td>\n",
       "      <td>7.00</td>\n",
       "      <td>F</td>\n",
       "      <td>NaN</td>\n",
       "      <td>32.0</td>\n",
       "      <td>135.0</td>\n",
       "    </tr>\n",
       "  </tbody>\n",
       "</table>\n",
       "</div>"
      ],
      "text/plain": [
       "   Patient number    Age Sex  Adult BMI (kg/m2)  Child Weight (kg)  \\\n",
       "0             101   3.00   F                NaN               19.0   \n",
       "1             102   0.75   F                NaN                9.8   \n",
       "2             103  70.00   F              33.00                NaN   \n",
       "3             104  70.00   F              28.47                NaN   \n",
       "4             105   7.00   F                NaN               32.0   \n",
       "\n",
       "   Child Height (cm)  \n",
       "0               99.0  \n",
       "1               73.0  \n",
       "2                NaN  \n",
       "3                NaN  \n",
       "4              135.0  "
      ]
     },
     "execution_count": 7,
     "metadata": {},
     "output_type": "execute_result"
    }
   ],
   "source": [
    "path_demo ='C:/Users/Setareh Erfani/Desktop/Respiratory_Sound_Database/demographic_info.txt'\n",
    "col_names = ['patient ID', 'age', 'sex', 'adult_bmi', 'child_weight', 'child_height']  \n",
    "df_demo = pd.read_csv(path_demo, names = \n",
    "                 ['Patient number', 'Age', 'Sex' , 'Adult BMI (kg/m2)', 'Child Weight (kg)' , 'Child Height (cm)'],\n",
    "                 delimiter = ' ')\n",
    "print(df_demo['Sex'].value_counts())\n",
    "df_demo.head()"
   ]
  },
  {
   "cell_type": "code",
   "execution_count": 8,
   "metadata": {},
   "outputs": [
    {
     "name": "stdout",
     "output_type": "stream",
     "text": [
      "COPD              64\n",
      "Healthy           26\n",
      "URTI              14\n",
      "Bronchiectasis     7\n",
      "Pneumonia          6\n",
      "Bronchiolitis      6\n",
      "LRTI               2\n",
      "Asthma             1\n",
      "Name: Diagnosis, dtype: int64\n"
     ]
    },
    {
     "data": {
      "text/html": [
       "<div>\n",
       "<style scoped>\n",
       "    .dataframe tbody tr th:only-of-type {\n",
       "        vertical-align: middle;\n",
       "    }\n",
       "\n",
       "    .dataframe tbody tr th {\n",
       "        vertical-align: top;\n",
       "    }\n",
       "\n",
       "    .dataframe thead th {\n",
       "        text-align: right;\n",
       "    }\n",
       "</style>\n",
       "<table border=\"1\" class=\"dataframe\">\n",
       "  <thead>\n",
       "    <tr style=\"text-align: right;\">\n",
       "      <th></th>\n",
       "      <th>Patient number</th>\n",
       "      <th>Age</th>\n",
       "      <th>Sex</th>\n",
       "      <th>Adult BMI (kg/m2)</th>\n",
       "      <th>Child Weight (kg)</th>\n",
       "      <th>Child Height (cm)</th>\n",
       "      <th>Diagnosis</th>\n",
       "    </tr>\n",
       "  </thead>\n",
       "  <tbody>\n",
       "    <tr>\n",
       "      <th>0</th>\n",
       "      <td>101</td>\n",
       "      <td>3.00</td>\n",
       "      <td>F</td>\n",
       "      <td>NaN</td>\n",
       "      <td>19.0</td>\n",
       "      <td>99.0</td>\n",
       "      <td>URTI</td>\n",
       "    </tr>\n",
       "    <tr>\n",
       "      <th>1</th>\n",
       "      <td>102</td>\n",
       "      <td>0.75</td>\n",
       "      <td>F</td>\n",
       "      <td>NaN</td>\n",
       "      <td>9.8</td>\n",
       "      <td>73.0</td>\n",
       "      <td>Healthy</td>\n",
       "    </tr>\n",
       "    <tr>\n",
       "      <th>2</th>\n",
       "      <td>103</td>\n",
       "      <td>70.00</td>\n",
       "      <td>F</td>\n",
       "      <td>33.00</td>\n",
       "      <td>NaN</td>\n",
       "      <td>NaN</td>\n",
       "      <td>Asthma</td>\n",
       "    </tr>\n",
       "    <tr>\n",
       "      <th>3</th>\n",
       "      <td>104</td>\n",
       "      <td>70.00</td>\n",
       "      <td>F</td>\n",
       "      <td>28.47</td>\n",
       "      <td>NaN</td>\n",
       "      <td>NaN</td>\n",
       "      <td>COPD</td>\n",
       "    </tr>\n",
       "    <tr>\n",
       "      <th>4</th>\n",
       "      <td>105</td>\n",
       "      <td>7.00</td>\n",
       "      <td>F</td>\n",
       "      <td>NaN</td>\n",
       "      <td>32.0</td>\n",
       "      <td>135.0</td>\n",
       "      <td>URTI</td>\n",
       "    </tr>\n",
       "  </tbody>\n",
       "</table>\n",
       "</div>"
      ],
      "text/plain": [
       "   Patient number    Age Sex  Adult BMI (kg/m2)  Child Weight (kg)  \\\n",
       "0             101   3.00   F                NaN               19.0   \n",
       "1             102   0.75   F                NaN                9.8   \n",
       "2             103  70.00   F              33.00                NaN   \n",
       "3             104  70.00   F              28.47                NaN   \n",
       "4             105   7.00   F                NaN               32.0   \n",
       "\n",
       "   Child Height (cm) Diagnosis  \n",
       "0               99.0      URTI  \n",
       "1               73.0   Healthy  \n",
       "2                NaN    Asthma  \n",
       "3                NaN      COPD  \n",
       "4              135.0      URTI  "
      ]
     },
     "execution_count": 8,
     "metadata": {},
     "output_type": "execute_result"
    }
   ],
   "source": [
    "path_diag = 'C:/Users/Setareh Erfani/Desktop/Respiratory_Sound_Database/patient_diagnosis.csv'\n",
    "df_diag = pd.read_csv(path_diag, names = ['Patient number', 'Diagnosis'])\n",
    "df =  df_demo.join(df_diag.set_index('Patient number'), on = 'Patient number', how = 'left')\n",
    "print(df['Diagnosis'].value_counts())\n",
    "df.head()"
   ]
  },
  {
   "cell_type": "code",
   "execution_count": 9,
   "metadata": {},
   "outputs": [],
   "source": [
    "path_data = 'C:/Users/Setareh Erfani/Desktop/Respiratory_Sound_Database/audio_and_txt_files'\n",
    "filenames = [f for f in listdir(path_data) if (isfile(join(path_data, f)) and f.endswith('.wav'))] \n",
    "Txt_files = [f for f in listdir(path_data) if (isfile(join(path_data, f)) and f.endswith('.txt'))]\n"
   ]
  },
  {
   "cell_type": "code",
   "execution_count": 10,
   "metadata": {},
   "outputs": [],
   "source": [
    "def Antn_Data(file_name, root):\n",
    "    tokens = file_name.split('_')\n",
    "    recording_info = pd.DataFrame(data = [tokens], columns = ['Patient number', 'Recording index', 'Chest location','Acquisition mode','Recording equipment'])\n",
    "    recording_annotations = pd.read_csv(os.path.join(root, file_name), names = ['Start', 'End', 'Crackles', 'Wheezes'], delimiter= '\\t')\n",
    "    return (recording_info, recording_annotations)\n"
   ]
  },
  {
   "cell_type": "code",
   "execution_count": 11,
   "metadata": {},
   "outputs": [
    {
     "data": {
      "text/html": [
       "<div>\n",
       "<style scoped>\n",
       "    .dataframe tbody tr th:only-of-type {\n",
       "        vertical-align: middle;\n",
       "    }\n",
       "\n",
       "    .dataframe tbody tr th {\n",
       "        vertical-align: top;\n",
       "    }\n",
       "\n",
       "    .dataframe thead th {\n",
       "        text-align: right;\n",
       "    }\n",
       "</style>\n",
       "<table border=\"1\" class=\"dataframe\">\n",
       "  <thead>\n",
       "    <tr style=\"text-align: right;\">\n",
       "      <th></th>\n",
       "      <th>Patient number</th>\n",
       "      <th>Recording index</th>\n",
       "      <th>Chest location</th>\n",
       "      <th>Acquisition mode</th>\n",
       "      <th>Recording equipment</th>\n",
       "    </tr>\n",
       "  </thead>\n",
       "  <tbody>\n",
       "    <tr>\n",
       "      <th>0</th>\n",
       "      <td>101</td>\n",
       "      <td>1b1</td>\n",
       "      <td>Al</td>\n",
       "      <td>sc</td>\n",
       "      <td>Meditron.txt</td>\n",
       "    </tr>\n",
       "    <tr>\n",
       "      <th>0</th>\n",
       "      <td>101</td>\n",
       "      <td>1b1</td>\n",
       "      <td>Pr</td>\n",
       "      <td>sc</td>\n",
       "      <td>Meditron.txt</td>\n",
       "    </tr>\n",
       "    <tr>\n",
       "      <th>0</th>\n",
       "      <td>102</td>\n",
       "      <td>1b1</td>\n",
       "      <td>Ar</td>\n",
       "      <td>sc</td>\n",
       "      <td>Meditron.txt</td>\n",
       "    </tr>\n",
       "    <tr>\n",
       "      <th>0</th>\n",
       "      <td>103</td>\n",
       "      <td>2b2</td>\n",
       "      <td>Ar</td>\n",
       "      <td>mc</td>\n",
       "      <td>LittC2SE.txt</td>\n",
       "    </tr>\n",
       "    <tr>\n",
       "      <th>0</th>\n",
       "      <td>104</td>\n",
       "      <td>1b1</td>\n",
       "      <td>Al</td>\n",
       "      <td>sc</td>\n",
       "      <td>Litt3200.txt</td>\n",
       "    </tr>\n",
       "  </tbody>\n",
       "</table>\n",
       "</div>"
      ],
      "text/plain": [
       "  Patient number Recording index Chest location Acquisition mode  \\\n",
       "0            101             1b1             Al               sc   \n",
       "0            101             1b1             Pr               sc   \n",
       "0            102             1b1             Ar               sc   \n",
       "0            103             2b2             Ar               mc   \n",
       "0            104             1b1             Al               sc   \n",
       "\n",
       "  Recording equipment  \n",
       "0        Meditron.txt  \n",
       "0        Meditron.txt  \n",
       "0        Meditron.txt  \n",
       "0        LittC2SE.txt  \n",
       "0        Litt3200.txt  "
      ]
     },
     "execution_count": 11,
     "metadata": {},
     "output_type": "execute_result"
    }
   ],
   "source": [
    "tst_list = []\n",
    "annotations = []\n",
    "annotations_dict = {}\n",
    "for kk in Txt_files:\n",
    "    (i,a) = Antn_Data(kk, path_data)\n",
    "    tst_list.append(i)\n",
    "    annotations.append(a)\n",
    "    annotations_dict[kk] = a\n",
    "recording_info = pd.concat(tst_list, axis = 0)\n",
    "recording_info.head()"
   ]
  },
  {
   "cell_type": "code",
   "execution_count": 12,
   "metadata": {},
   "outputs": [],
   "source": [
    "duration_list = []\n",
    "for i in range(len(annotations)):\n",
    "    current = annotations[i]\n",
    "    duration = current['End'] - current['Start']\n",
    "    duration_list.extend(duration)"
   ]
  },
  {
   "cell_type": "code",
   "execution_count": 15,
   "metadata": {},
   "outputs": [
    {
     "name": "stdout",
     "output_type": "stream",
     "text": [
      "longest cycle:16.163\n",
      "shortest cycle:0.20000000000000284\n",
      "mean cycle:2.7005090852420994\n",
      "mean+std cycle:5.045407366007572\n"
     ]
    },
    {
     "data": {
      "image/png": "[encoded data removed]",
      "text/plain": [
       "<Figure size 432x288 with 1 Axes>"
      ]
     },
     "metadata": {
      "needs_background": "light"
     },
     "output_type": "display_data"
    }
   ],
   "source": [
    "duration_list = np.array(duration_list)\n",
    "plt.hist(duration_list, bins = 50)\n",
    "print('longest cycle:{}'.format(max(duration_list)))\n",
    "print('shortest cycle:{}'.format(min(duration_list)))\n",
    "print('mean cycle:{}'.format(np.mean(duration_list)))\n",
    "print('mean+std cycle:{}'.format(np.mean(duration_list)+2*np.std(duration_list)))\n"
   ]
  },
  {
   "cell_type": "code",
   "execution_count": 16,
   "metadata": {},
   "outputs": [
    {
     "name": "stdout",
     "output_type": "stream",
     "text": [
      "Fraction of samples less than 5 seconds:0.9660771238040011\n"
     ]
    }
   ],
   "source": [
    "threshold =int(np.mean(duration_list)+2*np.std(duration_list))\n",
    "print('Fraction of samples less than {} seconds:{}'.format(threshold,\n",
    "                                                           np.sum(duration_list < threshold)/len(duration_list)))\n"
   ]
  },
  {
   "cell_type": "code",
   "execution_count": 20,
   "metadata": {},
   "outputs": [],
   "source": [
    "p_id_file = [] # patient IDs corresponding to each file\n",
    "for name in filenames:\n",
    "    p_id_file.append(int(name[:3]))\n",
    "\n",
    "p_id_file = np.array(p_id_file) \n",
    "\n",
    "p_id_cndt = {} # patient IDs corresponding to each file\n",
    "for i in range(df_diag.shape[0]):\n",
    "    for j in range(p_id_file.shape[0]):\n",
    "        if p_id_file[j]==df_diag['Patient number'][i]:\n",
    "            p_id_cndt[j]=df_diag['Diagnosis'][i]\n",
    "                 \n",
    "filepaths = [join(path_data, f) for f in filenames]\n",
    "\n",
    "labels = np.array([df_diag[df_diag['Patient number'] == x]['Diagnosis'].values[0] for x in p_id_file]) # labels for audio files\n"
   ]
  },
  {
   "cell_type": "code",
   "execution_count": 21,
   "metadata": {},
   "outputs": [],
   "source": [
    "N_Data={}\n",
    "Env_data_spl={}\n",
    "Row_data_spl={}\n",
    "labels_new=[]\n",
    "p_id_new=[]\n",
    "p_cndt_new = []\n",
    "\n",
    "len_sec=5\n",
    "pcs=4\n",
    "\n",
    "for i in range(920):\n",
    "\n",
    "    for j in range(pcs):\n",
    "\n",
    "        labels_new.append(labels[i])\n",
    "        p_id_new.append(p_id_file[i])\n",
    "        p_cndt_new.append(p_id_cndt[i])\n",
    "\n",
    "p_id_new=np.array(p_id_new)\n",
    "labels_new=np.array(labels_new)"
   ]
  },
  {
   "cell_type": "code",
   "execution_count": 186,
   "metadata": {},
   "outputs": [],
   "source": [
    "def XGBclass(Features,label,test_r):\n",
    "    \n",
    "    X_train, X_test, y_train, y_test = train_test_split(Features, label,\n",
    "                                                        test_size=test_r,random_state=7)\n",
    "    # fit model on training data\n",
    "    model = XGBClassifier()\n",
    "    model.fit(X_train, y_train)\n",
    "    # make predictions for test data\n",
    "    predictions = model.predict(X_test)\n",
    "    # evaluate predictions\n",
    "    accuracy = accuracy_score(y_test, predictions)\n",
    "    print(\"Accuracy: %.2f%%\" % (accuracy * 100.0))\n",
    "    \n",
    "    return predictions,y_test,accuracy"
   ]
  },
  {
   "cell_type": "code",
   "execution_count": 229,
   "metadata": {},
   "outputs": [],
   "source": [
    "def XGBclass(Features,label,test_r):\n",
    "    \n",
    "    X_train, X_test, y_train, y_test = train_test_split(Features, label,\n",
    "                                                        test_size=test_r)\n",
    "    # fit model on training data\n",
    "    model = XGBClassifier()\n",
    "    model.fit(X_train, y_train)\n",
    "    # make predictions for test data\n",
    "    predictions = model.predict(X_test)\n",
    "    # evaluate predictions\n",
    "    accuracy = accuracy_score(y_test, predictions)\n",
    "    print(\"Accuracy: %.2f%%\" % (accuracy * 100.0))\n",
    "    \n",
    "    return predictions,y_test,accuracy"
   ]
  },
  {
   "cell_type": "code",
   "execution_count": 36,
   "metadata": {},
   "outputs": [],
   "source": [
    "#Loading time features files\n",
    "path='C:/Users/Setareh Erfani/Desktop/T_features_s.xlsx'\n",
    "T_features_s=pd.read_excel(path)\n",
    "T_features_s=T_features_s.iloc[:,1:T_features_s.shape[1]]\n",
    "T_features_s=T_features_s.values\n"
   ]
  },
  {
   "cell_type": "code",
   "execution_count": 38,
   "metadata": {},
   "outputs": [],
   "source": [
    "#Loading frequency feature files\n",
    "path='C:/Users/Setareh Erfani/Desktop/F_features_s.xlsx'\n",
    "F_features_s=pd.read_excel(path)\n",
    "F_features_s=F_features_s.iloc[:,1:F_features_s.shape[1]]\n",
    "F_features_s=F_features_s.values"
   ]
  },
  {
   "cell_type": "code",
   "execution_count": 37,
   "metadata": {},
   "outputs": [],
   "source": [
    "#Loading sound feature files\n",
    "path='C:/Users/Setareh Erfani/Desktop/S_features_s.xlsx'\n",
    "S_features_s=pd.read_excel(path)\n",
    "S_features_s=S_features_s.iloc[:,1:S_features_s.shape[1]]\n",
    "S_features_s=S_features_s.values"
   ]
  },
  {
   "cell_type": "code",
   "execution_count": 25,
   "metadata": {},
   "outputs": [],
   "source": [
    "# appending copd index with patient ids\n",
    "COPD_idx=[] \n",
    "for idx in range(len(p_id_new)):\n",
    "    if p_cndt_new[idx] == 'COPD':\n",
    "        COPD_idx.append(idx)\n",
    "\n",
    "COPD_idx=np.array(COPD_idx)"
   ]
  },
  {
   "cell_type": "code",
   "execution_count": 27,
   "metadata": {},
   "outputs": [],
   "source": [
    "# appending healthy index with patient ids\n",
    "healthy=[] \n",
    "for idx in range(len(p_id_new)):\n",
    "    if p_cndt_new[idx] == 'Healthy':\n",
    "        healthy.append(idx)\n",
    "healthy=np.array(healthy)"
   ]
  },
  {
   "cell_type": "code",
   "execution_count": 31,
   "metadata": {},
   "outputs": [],
   "source": [
    "# appending bronchiectasis index with patient ids\n",
    "Bronchiectasis=[]      \n",
    "for idx in range(len(p_id_new)):\n",
    "    if p_cndt_new[idx] == 'Bronchiectasis':\n",
    "        Bronchiectasis.append(idx)\n",
    "\n",
    "Bronchiectasis=np.array(Bronchiectasis)"
   ]
  },
  {
   "cell_type": "code",
   "execution_count": 32,
   "metadata": {},
   "outputs": [],
   "source": [
    "# appending bronchiolitis index with patient ids\n",
    "Bronchiolitis=[]      \n",
    "for idx in range(len(p_id_new)):\n",
    "    if p_cndt_new[idx] == 'Bronchiolitis':\n",
    "        Bronchiolitis.append(idx)\n",
    "\n",
    "Bronchiolitis=np.array(Bronchiolitis)"
   ]
  },
  {
   "cell_type": "code",
   "execution_count": 33,
   "metadata": {},
   "outputs": [],
   "source": [
    "# appending pnemonia index with patient ids\n",
    "Pneumonia=[]      \n",
    "for idx in range(len(p_id_new)):\n",
    "    if p_cndt_new[idx] == 'Pneumonia':\n",
    "        Pneumonia.append(idx)\n",
    "\n",
    "Pneumonia=np.array(Pneumonia)"
   ]
  },
  {
   "cell_type": "code",
   "execution_count": 34,
   "metadata": {},
   "outputs": [],
   "source": [
    "# appending lower respiratory tract infection with patient ids\n",
    "LRTI=[]      \n",
    "for idx in range(len(p_id_new)):\n",
    "    if p_cndt_new[idx] == 'LRTI':\n",
    "        LRTI.append(idx)\n",
    "\n",
    "LRTI=np.array(LRTI)"
   ]
  },
  {
   "cell_type": "code",
   "execution_count": 35,
   "metadata": {},
   "outputs": [],
   "source": [
    "# appending upper respiratory tract infection with patient ids\n",
    "URTI=[]      \n",
    "for idx in range(len(p_id_new)):\n",
    "    if p_cndt_new[idx] == 'URTI':\n",
    "        URTI.append(idx)\n",
    "\n",
    "URTI=np.array(URTI)"
   ]
  },
  {
   "cell_type": "markdown",
   "metadata": {},
   "source": [
    "# 3 Classes, Time features, Without feature selection"
   ]
  },
  {
   "cell_type": "code",
   "execution_count": 24,
   "metadata": {},
   "outputs": [],
   "source": [
    "c_names = [ 'Healthy', 'COPD', 'Pneumonia']\n",
    "num_clss = len(c_names)\n",
    "\n",
    "N_smpls=140\n",
    "N_features=goal_features.shape[1]"
   ]
  },
  {
   "cell_type": "code",
   "execution_count": 39,
   "metadata": {},
   "outputs": [],
   "source": [
    "goal_features=T_features_s\n",
    "goal_labels=np.array(labels_new)"
   ]
  },
  {
   "cell_type": "code",
   "execution_count": 138,
   "metadata": {},
   "outputs": [
    {
     "name": "stdout",
     "output_type": "stream",
     "text": [
      "[['Asthma' 'Bronchiectasis' 'Bronchiolitis' 'COPD' 'Healthy' 'LRTI'\n",
      "  'Pneumonia' 'URTI']\n",
      " ['4' '64' '52' '3172' '140' '8' '148' '92']]\n"
     ]
    },
    {
     "data": {
      "image/png": "[encoded data removed]",
      "text/plain": [
       "<Figure size 720x432 with 1 Axes>"
      ]
     },
     "metadata": {
      "needs_background": "light"
     },
     "output_type": "display_data"
    }
   ],
   "source": [
    "unique_elements, counts_elements = np.unique(labels_new, return_counts=True)\n",
    "print(np.asarray((unique_elements, counts_elements)))\n",
    "#plot the quantity of conditions\n",
    "y_pos = np.arange(len(unique_elements))\n",
    "plt.figure(figsize=(10,6))\n",
    "plt.bar(unique_elements, counts_elements, align='center', alpha=0.5,color='b')\n",
    "plt.xticks(y_pos, unique_elements)\n",
    "plt.ylabel('Count')\n",
    "plt.xlabel('Disease')\n",
    "plt.title('Disease Count in Sound Files')\n",
    "plt.show()"
   ]
  },
  {
   "cell_type": "markdown",
   "metadata": {},
   "source": [
    "Therefore, we have to down sample dataset in order to avoid overfitting.\n"
   ]
  },
  {
   "cell_type": "code",
   "execution_count": 40,
   "metadata": {},
   "outputs": [],
   "source": [
    "healthy_sample=goal_features[healthy,:]\n",
    "healthy_sample=healthy_sample.reshape(N_smpls,N_features)\n",
    "l_h=0*np.ones(healthy_sample.shape[0])"
   ]
  },
  {
   "cell_type": "code",
   "execution_count": 41,
   "metadata": {},
   "outputs": [],
   "source": [
    "copd_ids=pd.DataFrame(COPD_idx).sample(n = N_smpls) \n",
    "copd_ids = np.array(copd_ids)\n",
    "copd_sample=goal_features[copd_ids,:]\n",
    "copd_sample=copd_sample.reshape(N_smpls,N_features)\n",
    "c_h=np.ones(copd_sample.shape[0])"
   ]
  },
  {
   "cell_type": "code",
   "execution_count": 42,
   "metadata": {},
   "outputs": [],
   "source": [
    "Pneumonia_ids=pd.DataFrame(Pneumonia).sample(n = N_smpls) \n",
    "Pneumonia_ids = np.array(Pneumonia_ids)\n",
    "Pneumonia_sample=goal_features[Pneumonia_ids,:]\n",
    "Pneumonia_sample=Pneumonia_sample.reshape(N_smpls,N_features)\n",
    "pn_h=2*np.ones(Pneumonia_sample.shape[0])\n"
   ]
  },
  {
   "cell_type": "code",
   "execution_count": 43,
   "metadata": {},
   "outputs": [],
   "source": [
    "all_feats=np.vstack((healthy_sample,copd_sample,Pneumonia_sample))\n",
    "  \n",
    "i_labels_n=np.hstack((l_h,c_h,pn_h))"
   ]
  },
  {
   "cell_type": "code",
   "execution_count": 45,
   "metadata": {},
   "outputs": [
    {
     "name": "stdout",
     "output_type": "stream",
     "text": [
      "(140, 19)\n",
      "(140, 19)\n",
      "(140, 19)\n",
      "(420, 19)\n",
      "(420,)\n"
     ]
    }
   ],
   "source": [
    "print(np.shape(healthy_sample))\n",
    "print(np.shape(copd_sample))\n",
    "print(np.shape(Pneumonia_sample))\n",
    "print(np.shape(all_feats))\n",
    "print(np.shape(i_labels_n))\n",
    "\n"
   ]
  },
  {
   "cell_type": "code",
   "execution_count": 46,
   "metadata": {},
   "outputs": [
    {
     "name": "stdout",
     "output_type": "stream",
     "text": [
      "[[  0.   1.   2.]\n",
      " [140. 140. 140.]]\n"
     ]
    },
    {
     "data": {
      "image/png": "[encoded data removed]",
      "text/plain": [
       "<Figure size 720x432 with 1 Axes>"
      ]
     },
     "metadata": {
      "needs_background": "light"
     },
     "output_type": "display_data"
    }
   ],
   "source": [
    "\n",
    "unique_elements, counts_elements = np.unique(i_labels_n, return_counts=True)\n",
    "print(np.asarray((unique_elements, counts_elements)))\n",
    "#plot the quantity of conditions\n",
    "y_pos = np.arange(len(unique_elements))\n",
    "plt.figure(figsize=(10,6))\n",
    "plt.bar(unique_elements, counts_elements, align='center', alpha=0.5,color='b')\n",
    "plt.xticks(y_pos, unique_elements)\n",
    "plt.ylabel('Count')\n",
    "plt.xlabel('Disease')\n",
    "plt.title('Disease Count in Sound Files')\n",
    "plt.show()\n"
   ]
  },
  {
   "cell_type": "code",
   "execution_count": 47,
   "metadata": {},
   "outputs": [
    {
     "name": "stdout",
     "output_type": "stream",
     "text": [
      "Accuracy: 60.95%\n",
      "[[21 10  8]\n",
      " [ 5 21  5]\n",
      " [ 8  5 22]]\n"
     ]
    }
   ],
   "source": [
    "XGB_pred,XGB_test,XGB_Acc=XGBclass(all_feats,i_labels_n,.25)\n",
    "\n",
    "print(confusion_matrix(XGB_test, XGB_pred))\n"
   ]
  },
  {
   "cell_type": "code",
   "execution_count": 48,
   "metadata": {},
   "outputs": [],
   "source": [
    "Oh_pred = to_categorical(XGB_pred) \n",
    "Oh_true = to_categorical(XGB_test)"
   ]
  },
  {
   "cell_type": "code",
   "execution_count": 52,
   "metadata": {},
   "outputs": [
    {
     "name": "stdout",
     "output_type": "stream",
     "text": [
      "              precision    recall  f1-score   support\n",
      "\n",
      "     Healthy       0.62      0.54      0.58        39\n",
      "        COPD       0.58      0.68      0.63        31\n",
      "   Pneumonia       0.63      0.63      0.63        35\n",
      "\n",
      "    accuracy                           0.61       105\n",
      "   macro avg       0.61      0.61      0.61       105\n",
      "weighted avg       0.61      0.61      0.61       105\n",
      "\n"
     ]
    }
   ],
   "source": [
    "# Classification Report\n",
    "classification_results=sklearn.metrics.classification_report(XGB_test, XGB_pred, target_names=c_names)\n",
    "print(sklearn.metrics.classification_report(XGB_test, XGB_pred, target_names=c_names))\n"
   ]
  },
  {
   "cell_type": "markdown",
   "metadata": {},
   "source": [
    "# 3 Classes, Time features, With feature selection"
   ]
  },
  {
   "cell_type": "code",
   "execution_count": 53,
   "metadata": {},
   "outputs": [],
   "source": [
    "\n",
    "def XGBRgrssr(Features,label,Train_R,B_Sc,N_Est,L_Rt):\n",
    "    \n",
    "    \n",
    "    def get_feature_importance_data(Features,label,Train_R):\n",
    "        \n",
    "        y = label\n",
    "        X = Features\n",
    "    \n",
    "        train_samples = int(X.shape[0] *Train_R)\n",
    " \n",
    "        X_train = X[:train_samples]\n",
    "        X_test = X[train_samples:]\n",
    "\n",
    "        y_train = y[:train_samples]\n",
    "        y_test = y[train_samples:]\n",
    "    \n",
    "        return (X_train, y_train), (X_test, y_test)\n",
    "\n",
    "    (X_train_FI, y_train_FI), (X_test_FI, y_test_FI) = get_feature_importance_data(Features,label,Train_R)\n",
    "\n",
    "    regressor = xgb.XGBRegressor(gamma=0.0,n_estimators=N_Est,base_score=B_Sc,colsample_bytree=1,learning_rate=L_Rt)\n",
    "\n",
    "    xgbModel = regressor.fit(X_train_FI,y_train_FI, \\\n",
    "                         eval_set = [(X_train_FI, y_train_FI), (X_test_FI, y_test_FI)], \\\n",
    "                         verbose=False)\n",
    "    \n",
    "    eval_result = regressor.evals_result()\n",
    "    training_rounds = range(len(eval_result['validation_0']['rmse']))\n",
    "    plt.scatter(x=training_rounds,y=eval_result['validation_0']['rmse'],label='Training Error')\n",
    "    plt.scatter(x=training_rounds,y=eval_result['validation_1']['rmse'],label='Validation Error')\n",
    "    plt.xlabel('Iterations')\n",
    "    plt.ylabel('RMSE')\n",
    "    plt.title('Training Vs Validation Error')\n",
    "    plt.legend()\n",
    "    plt.show()\n",
    "    features_score=xgbModel.feature_importances_\n",
    "    features_score=features_score/max(features_score)\n",
    "    fig = plt.figure()\n",
    "    plt.xticks(rotation='vertical')\n",
    "    X_test_FI=pd.DataFrame(X_test_FI)\n",
    "    plt.bar([i for i in range(len(xgbModel.feature_importances_))], \n",
    "             xgbModel.feature_importances_/max(xgbModel.feature_importances_), tick_label=X_test_FI.columns)\n",
    "    plt.title('Feature importance')\n",
    "    plt.xlabel('Feature index')\n",
    "    plt.ylabel('Normalized feature Score')\n",
    "    plt.grid()\n",
    "    plt.show()\n",
    "    feature_idx=np.zeros((len(features_score)))\n",
    "    for i in range(len(features_score)):\n",
    "        if features_score[i]>B_Sc:\n",
    "            feature_idx[i]=i\n",
    "        else:\n",
    "            feature_idx[i]=0\n",
    "    feature_idx=feature_idx[feature_idx>0]\n",
    "    \n",
    "    return features_score,feature_idx"
   ]
  },
  {
   "cell_type": "code",
   "execution_count": 68,
   "metadata": {},
   "outputs": [
    {
     "name": "stdout",
     "output_type": "stream",
     "text": [
      "[12:08:08] WARNING: C:/Jenkins/workspace/xgboost-win64_release_0.90/src/objective/regression_obj.cu:152: reg:linear is now deprecated in favor of reg:squarederror.\n"
     ]
    },
    {
     "data": {
      "image/png": "[encoded data removed]",
      "text/plain": [
       "<Figure size 432x288 with 1 Axes>"
      ]
     },
     "metadata": {
      "needs_background": "light"
     },
     "output_type": "display_data"
    },
    {
     "data": {
      "image/png": "[encoded data removed]",
      "text/plain": [
       "<Figure size 432x288 with 1 Axes>"
      ]
     },
     "metadata": {
      "needs_background": "light"
     },
     "output_type": "display_data"
    }
   ],
   "source": [
    "all_feats=np.vstack((healthy_sample,copd_sample,Pneumonia_sample))\n",
    "\n",
    "i_labels_n=np.hstack((l_h,c_h,pn_h))\n",
    "\n",
    "features_score,feature_idx=XGBRgrssr(all_feats,i_labels_n,.75,0,200,.001)"
   ]
  },
  {
   "cell_type": "code",
   "execution_count": 69,
   "metadata": {},
   "outputs": [
    {
     "name": "stdout",
     "output_type": "stream",
     "text": [
      "Accuracy: 69.52%\n",
      "[[27  2  4]\n",
      " [ 7 24  8]\n",
      " [ 7  4 22]]\n"
     ]
    }
   ],
   "source": [
    "all_feats=pd.DataFrame(all_feats)[feature_idx]\n",
    "\n",
    "\n",
    "XGB_pred,XGB_test,XGB_Acc=XGBclass(all_feats,i_labels_n,.25)\n",
    "\n",
    "print(confusion_matrix(XGB_test, XGB_pred))"
   ]
  },
  {
   "cell_type": "code",
   "execution_count": 70,
   "metadata": {},
   "outputs": [
    {
     "name": "stdout",
     "output_type": "stream",
     "text": [
      "              precision    recall  f1-score   support\n",
      "\n",
      "     Healthy       0.66      0.82      0.73        33\n",
      "        COPD       0.80      0.62      0.70        39\n",
      "   Pneumonia       0.65      0.67      0.66        33\n",
      "\n",
      "    accuracy                           0.70       105\n",
      "   macro avg       0.70      0.70      0.69       105\n",
      "weighted avg       0.71      0.70      0.69       105\n",
      "\n"
     ]
    }
   ],
   "source": [
    "# Classification Report\n",
    "classification_results=sklearn.metrics.classification_report(XGB_test, XGB_pred, target_names=c_names)\n",
    "print(sklearn.metrics.classification_report(XGB_test, XGB_pred, target_names=c_names))\n"
   ]
  },
  {
   "cell_type": "markdown",
   "metadata": {},
   "source": [
    "# 3 Classes, Frequency features, Without feature selection"
   ]
  },
  {
   "cell_type": "code",
   "execution_count": 74,
   "metadata": {},
   "outputs": [],
   "source": [
    "\n",
    "goal_features=F_features_s\n",
    "goal_labels=np.array(labels_new)"
   ]
  },
  {
   "cell_type": "code",
   "execution_count": 75,
   "metadata": {},
   "outputs": [],
   "source": [
    "\n",
    "healthy_sample=goal_features[healthy,:]\n",
    "healthy_sample=healthy_sample.reshape(N_smpls,N_features)\n",
    "l_h=0*np.ones(healthy_sample.shape[0])\n",
    "\n",
    "copd_ids=pd.DataFrame(COPD_idx).sample(n = N_smpls) \n",
    "copd_ids = np.array(copd_ids)\n",
    "copd_sample=goal_features[copd_ids,:]\n",
    "copd_sample=copd_sample.reshape(N_smpls,N_features)\n",
    "c_h=np.ones(copd_sample.shape[0])\n",
    "\n",
    "\n",
    "Pneumonia_ids=pd.DataFrame(Pneumonia).sample(n = N_smpls) \n",
    "Pneumonia_ids = np.array(Pneumonia_ids)\n",
    "Pneumonia_sample=goal_features[Pneumonia_ids,:]\n",
    "Pneumonia_sample=Pneumonia_sample.reshape(N_smpls,N_features)\n",
    "pn_h=2*np.ones(Pneumonia_sample.shape[0])\n"
   ]
  },
  {
   "cell_type": "code",
   "execution_count": 76,
   "metadata": {},
   "outputs": [],
   "source": [
    "\n",
    "all_feats=np.vstack((healthy_sample,copd_sample,Pneumonia_sample))\n",
    "  \n",
    "i_labels_n=np.hstack((l_h,c_h,pn_h))\n",
    "Labels_eq=pd.DataFrame(['healthy','copd','Pneumonia'])\n"
   ]
  },
  {
   "cell_type": "code",
   "execution_count": 77,
   "metadata": {},
   "outputs": [
    {
     "name": "stdout",
     "output_type": "stream",
     "text": [
      "Accuracy: 75.24%\n",
      "[[23  0  6]\n",
      " [ 5 28  4]\n",
      " [ 6  5 28]]\n"
     ]
    }
   ],
   "source": [
    "\n",
    "XGB_pred,XGB_test,XGB_Acc=XGBclass(all_feats,i_labels_n,.25)\n",
    "\n",
    "print(confusion_matrix(XGB_test, XGB_pred))\n"
   ]
  },
  {
   "cell_type": "code",
   "execution_count": 78,
   "metadata": {},
   "outputs": [
    {
     "name": "stdout",
     "output_type": "stream",
     "text": [
      "              precision    recall  f1-score   support\n",
      "\n",
      "     Healthy       0.68      0.79      0.73        29\n",
      "        COPD       0.85      0.76      0.80        37\n",
      "   Pneumonia       0.74      0.72      0.73        39\n",
      "\n",
      "    accuracy                           0.75       105\n",
      "   macro avg       0.75      0.76      0.75       105\n",
      "weighted avg       0.76      0.75      0.75       105\n",
      "\n"
     ]
    }
   ],
   "source": [
    "# Classification Report\n",
    "classification_results=sklearn.metrics.classification_report(XGB_test, XGB_pred, target_names=c_names)\n",
    "print(sklearn.metrics.classification_report(XGB_test, XGB_pred, target_names=c_names))\n"
   ]
  },
  {
   "cell_type": "markdown",
   "metadata": {},
   "source": [
    "# 3 Classes, Frequency features, With feature selection"
   ]
  },
  {
   "cell_type": "code",
   "execution_count": 81,
   "metadata": {},
   "outputs": [],
   "source": [
    "\n",
    "all_feats=np.vstack((healthy_sample,copd_sample,Pneumonia_sample))\n",
    "  \n",
    "i_labels_n=np.hstack((l_h,c_h,pn_h))\n"
   ]
  },
  {
   "cell_type": "code",
   "execution_count": 82,
   "metadata": {},
   "outputs": [
    {
     "name": "stdout",
     "output_type": "stream",
     "text": [
      "[12:18:24] WARNING: C:/Jenkins/workspace/xgboost-win64_release_0.90/src/objective/regression_obj.cu:152: reg:linear is now deprecated in favor of reg:squarederror.\n"
     ]
    },
    {
     "data": {
      "image/png": "[encoded data removed]",
      "text/plain": [
       "<Figure size 432x288 with 1 Axes>"
      ]
     },
     "metadata": {
      "needs_background": "light"
     },
     "output_type": "display_data"
    },
    {
     "data": {
      "image/png": "[encoded data removed]",
      "text/plain": [
       "<Figure size 432x288 with 1 Axes>"
      ]
     },
     "metadata": {
      "needs_background": "light"
     },
     "output_type": "display_data"
    }
   ],
   "source": [
    "\n",
    "features_score,feature_idx=XGBRgrssr(all_feats,i_labels_n,.75,0,200,.001)"
   ]
  },
  {
   "cell_type": "code",
   "execution_count": 83,
   "metadata": {},
   "outputs": [
    {
     "name": "stdout",
     "output_type": "stream",
     "text": [
      "Accuracy: 71.43%\n",
      "[[25  0  7]\n",
      " [ 9 21  4]\n",
      " [ 6  4 29]]\n"
     ]
    }
   ],
   "source": [
    "\n",
    "XGB_pred,XGB_test,XGB_Acc=XGBclass(all_feats,i_labels_n,.25)\n",
    "\n",
    "print(confusion_matrix(XGB_test, XGB_pred))"
   ]
  },
  {
   "cell_type": "code",
   "execution_count": 84,
   "metadata": {},
   "outputs": [
    {
     "name": "stdout",
     "output_type": "stream",
     "text": [
      "              precision    recall  f1-score   support\n",
      "\n",
      "     Healthy       0.62      0.78      0.69        32\n",
      "        COPD       0.84      0.62      0.71        34\n",
      "   Pneumonia       0.72      0.74      0.73        39\n",
      "\n",
      "    accuracy                           0.71       105\n",
      "   macro avg       0.73      0.71      0.71       105\n",
      "weighted avg       0.73      0.71      0.71       105\n",
      "\n"
     ]
    }
   ],
   "source": [
    "# Classification Report\n",
    "classification_results=sklearn.metrics.classification_report(XGB_test, XGB_pred, target_names=c_names)\n",
    "print(sklearn.metrics.classification_report(XGB_test, XGB_pred, target_names=c_names))\n"
   ]
  },
  {
   "cell_type": "code",
   "execution_count": null,
   "metadata": {},
   "outputs": [],
   "source": [
    "Oh_pred = to_categorical(XGB_pred) \n",
    "Oh_true = to_categorical(XGB_test) "
   ]
  },
  {
   "cell_type": "markdown",
   "metadata": {},
   "source": [
    "# 3 Classes, Sound features, Without feature selection"
   ]
  },
  {
   "cell_type": "code",
   "execution_count": 92,
   "metadata": {},
   "outputs": [],
   "source": [
    "goal_features=S_features_s\n",
    "goal_labels=np.array(labels_new)\n",
    "N_smpls=140\n",
    "N_features=goal_features.shape[1]\n"
   ]
  },
  {
   "cell_type": "code",
   "execution_count": 94,
   "metadata": {},
   "outputs": [],
   "source": [
    "healthy_sample=goal_features[healthy,:]\n",
    "l_h=0*np.ones(healthy_sample.shape[0])\n"
   ]
  },
  {
   "cell_type": "code",
   "execution_count": 95,
   "metadata": {},
   "outputs": [],
   "source": [
    "copd_ids=pd.DataFrame(COPD_idx).sample(n = N_smpls) \n",
    "copd_ids = np.array(copd_ids)\n",
    "copd_sample=goal_features[copd_ids,:]\n",
    "copd_sample=copd_sample.reshape(N_smpls,N_features)\n",
    "c_h=np.ones(copd_sample.shape[0])"
   ]
  },
  {
   "cell_type": "code",
   "execution_count": 96,
   "metadata": {},
   "outputs": [],
   "source": [
    "Pneumonia_ids=pd.DataFrame(Pneumonia).sample(n = N_smpls) \n",
    "Pneumonia_ids = np.array(Pneumonia_ids)\n",
    "Pneumonia_sample=goal_features[Pneumonia_ids,:]\n",
    "Pneumonia_sample=Pneumonia_sample.reshape(N_smpls,N_features)\n",
    "pn_h=2*np.ones(Pneumonia_sample.shape[0])\n"
   ]
  },
  {
   "cell_type": "code",
   "execution_count": 97,
   "metadata": {},
   "outputs": [],
   "source": [
    "all_feats=np.vstack((healthy_sample,copd_sample,Pneumonia_sample))\n",
    "  \n",
    "i_labels_n=np.hstack((l_h,c_h,pn_h))\n",
    "\n",
    "Labels_eq=pd.DataFrame(['healthy','copd','Pneumonia'])\n"
   ]
  },
  {
   "cell_type": "code",
   "execution_count": 98,
   "metadata": {},
   "outputs": [
    {
     "name": "stdout",
     "output_type": "stream",
     "text": [
      "Accuracy: 88.57%\n",
      "[[39  1  5]\n",
      " [ 1 35  2]\n",
      " [ 3  0 19]]\n"
     ]
    }
   ],
   "source": [
    "XGB_pred,XGB_test,XGB_Acc=XGBclass(all_feats,i_labels_n,.25)\n",
    "\n",
    "print(confusion_matrix(XGB_test, XGB_pred))\n",
    "\n"
   ]
  },
  {
   "cell_type": "code",
   "execution_count": 99,
   "metadata": {},
   "outputs": [
    {
     "name": "stdout",
     "output_type": "stream",
     "text": [
      "              precision    recall  f1-score   support\n",
      "\n",
      "     Healthy       0.91      0.87      0.89        45\n",
      "        COPD       0.97      0.92      0.95        38\n",
      "   Pneumonia       0.73      0.86      0.79        22\n",
      "\n",
      "    accuracy                           0.89       105\n",
      "   macro avg       0.87      0.88      0.87       105\n",
      "weighted avg       0.89      0.89      0.89       105\n",
      "\n"
     ]
    }
   ],
   "source": [
    "# Classification Report\n",
    "classification_results=sklearn.metrics.classification_report(XGB_test, XGB_pred, target_names=c_names)\n",
    "print(sklearn.metrics.classification_report(XGB_test, XGB_pred, target_names=c_names))\n"
   ]
  },
  {
   "cell_type": "markdown",
   "metadata": {},
   "source": [
    "# 3 Classes, Sound features, With feature selection"
   ]
  },
  {
   "cell_type": "code",
   "execution_count": 109,
   "metadata": {},
   "outputs": [],
   "source": [
    "\n",
    "all_feats=np.vstack((healthy_sample,copd_sample,Pneumonia_sample))\n",
    "  \n",
    "i_labels_n=np.hstack((l_h,c_h,pn_h))\n",
    "Labels_eq=pd.DataFrame(['healthy','copd','Pneumonia'])\n"
   ]
  },
  {
   "cell_type": "code",
   "execution_count": 110,
   "metadata": {},
   "outputs": [
    {
     "name": "stdout",
     "output_type": "stream",
     "text": [
      "[12:29:26] WARNING: C:/Jenkins/workspace/xgboost-win64_release_0.90/src/objective/regression_obj.cu:152: reg:linear is now deprecated in favor of reg:squarederror.\n"
     ]
    },
    {
     "data": {
      "image/png": "[encoded data removed]",
      "text/plain": [
       "<Figure size 432x288 with 1 Axes>"
      ]
     },
     "metadata": {
      "needs_background": "light"
     },
     "output_type": "display_data"
    },
    {
     "data": {
      "image/png": "[encoded data removed]",
      "text/plain": [
       "<Figure size 432x288 with 1 Axes>"
      ]
     },
     "metadata": {
      "needs_background": "light"
     },
     "output_type": "display_data"
    }
   ],
   "source": [
    "features_score,feature_idx=XGBRgrssr(all_feats,i_labels_n,.75,0,200,.001)\n"
   ]
  },
  {
   "cell_type": "code",
   "execution_count": 133,
   "metadata": {},
   "outputs": [
    {
     "name": "stdout",
     "output_type": "stream",
     "text": [
      "Accuracy: 92.38%\n",
      "[[25  0  3]\n",
      " [ 1 36  2]\n",
      " [ 2  0 36]]\n"
     ]
    }
   ],
   "source": [
    "all_feats=pd.DataFrame(all_feats)[feature_idx]\n",
    "\n",
    "all_feats=np.array(all_feats)\n",
    "\n",
    "XGB_pred,XGB_test,XGB_Acc=XGBclass(all_feats,i_labels_n,.25)\n",
    "\n",
    "print(confusion_matrix(XGB_test, XGB_pred))"
   ]
  },
  {
   "cell_type": "code",
   "execution_count": 134,
   "metadata": {},
   "outputs": [
    {
     "name": "stdout",
     "output_type": "stream",
     "text": [
      "              precision    recall  f1-score   support\n",
      "\n",
      "     Healthy       0.89      0.89      0.89        28\n",
      "        COPD       1.00      0.92      0.96        39\n",
      "   Pneumonia       0.88      0.95      0.91        38\n",
      "\n",
      "    accuracy                           0.92       105\n",
      "   macro avg       0.92      0.92      0.92       105\n",
      "weighted avg       0.93      0.92      0.92       105\n",
      "\n"
     ]
    }
   ],
   "source": [
    "# Classification Report\n",
    "classification_results=sklearn.metrics.classification_report(XGB_test, XGB_pred, target_names=c_names)\n",
    "print(sklearn.metrics.classification_report(XGB_test, XGB_pred, target_names=c_names))\n",
    "\n"
   ]
  },
  {
   "cell_type": "markdown",
   "metadata": {},
   "source": [
    "Feature selection has improved classification accuracy based on time and sound features but decreased classification accuracy based on Frequency features. Because, sound and time features suffer from noise and feature selection will help them to eliminate noise. "
   ]
  },
  {
   "cell_type": "markdown",
   "metadata": {},
   "source": [
    "# 5 Classes, Time features, Without feature selection"
   ]
  },
  {
   "cell_type": "code",
   "execution_count": 139,
   "metadata": {},
   "outputs": [],
   "source": [
    "goal_features=T_features_s\n",
    "goal_labels=np.array(labels_new)"
   ]
  },
  {
   "cell_type": "code",
   "execution_count": 140,
   "metadata": {},
   "outputs": [],
   "source": [
    "\n",
    "c_names = [ 'Bronchiectasis', 'COPD', 'Healthy' ,'Pneumonia', 'URTI']\n",
    "num_clss = len(c_names)\n",
    "\n",
    "N_smpls=60\n",
    "N_features=goal_features.shape[1]"
   ]
  },
  {
   "cell_type": "code",
   "execution_count": 141,
   "metadata": {},
   "outputs": [],
   "source": [
    "\n",
    "Bronchiectasis_ids=pd.DataFrame(Bronchiectasis).sample(n = N_smpls) \n",
    "Bronchiectasis_ids = np.array(Bronchiectasis_ids)\n",
    "Bronchiectasis_sample=goal_features[Bronchiectasis_ids,:]\n",
    "Bronchiectasis_sample=Bronchiectasis_sample.reshape(N_smpls,N_features)\n",
    "BR_h=0*np.ones(Bronchiectasis_sample.shape[0])\n",
    "\n",
    "\n",
    "copd_ids=pd.DataFrame(COPD_idx).sample(n = N_smpls) \n",
    "copd_ids = np.array(copd_ids)\n",
    "copd_sample=goal_features[copd_ids,:]\n",
    "copd_sample=copd_sample.reshape(N_smpls,N_features)\n",
    "c_h=np.ones(copd_sample.shape[0])\n",
    "\n",
    "healthy_ids=pd.DataFrame(healthy).sample(n = N_smpls) \n",
    "healthy_ids = np.array(healthy_ids)\n",
    "healthy_sample=goal_features[healthy_ids,:]\n",
    "healthy_sample=healthy_sample.reshape(N_smpls,N_features)\n",
    "l_h=2*np.ones(healthy_sample.shape[0])\n",
    "\n",
    "\n",
    "Pneumonia_ids=pd.DataFrame(Pneumonia).sample(n = N_smpls) \n",
    "Pneumonia_ids = np.array(Pneumonia_ids)\n",
    "Pneumonia_sample=goal_features[Pneumonia_ids,:]\n",
    "Pneumonia_sample=Pneumonia_sample.reshape(N_smpls,N_features)\n",
    "pn_h=3*np.ones(Pneumonia_sample.shape[0])\n",
    "\n",
    "URTI_ids=pd.DataFrame(URTI).sample(n = N_smpls) \n",
    "URTI_ids = np.array(URTI_ids)\n",
    "URTI_sample=goal_features[URTI_ids,:]\n",
    "URTI_sample=URTI_sample.reshape(N_smpls,N_features)\n",
    "URTI_h=4*np.ones(URTI_sample.shape[0])"
   ]
  },
  {
   "cell_type": "code",
   "execution_count": 145,
   "metadata": {},
   "outputs": [],
   "source": [
    "all_feats=np.vstack((Bronchiectasis_sample,copd_sample,healthy_sample,Pneumonia_sample,URTI_sample))\n",
    "np.shape(all_feats)  \n",
    "i_labels_n=np.hstack((BR_h,c_h,l_h,pn_h,URTI_h))\n"
   ]
  },
  {
   "cell_type": "code",
   "execution_count": 143,
   "metadata": {},
   "outputs": [
    {
     "name": "stdout",
     "output_type": "stream",
     "text": [
      "[[ 0.  1.  2.  3.  4.]\n",
      " [60. 60. 60. 60. 60.]]\n"
     ]
    },
    {
     "data": {
      "image/png": "[encoded data removed]",
      "text/plain": [
       "<Figure size 720x432 with 1 Axes>"
      ]
     },
     "metadata": {
      "needs_background": "light"
     },
     "output_type": "display_data"
    }
   ],
   "source": [
    "unique_elements, counts_elements = np.unique(i_labels_n, return_counts=True)\n",
    "print(np.asarray((unique_elements, counts_elements)))\n",
    "#plot the quantity of conditions\n",
    "y_pos = np.arange(len(unique_elements))\n",
    "plt.figure(figsize=(10,6))\n",
    "plt.bar(unique_elements, counts_elements, align='center', alpha=0.5,color='b')\n",
    "plt.xticks(y_pos, unique_elements)\n",
    "plt.ylabel('Count')\n",
    "plt.xlabel('Disease')\n",
    "plt.title('Disease Count in Sound Files')\n",
    "plt.show()"
   ]
  },
  {
   "cell_type": "code",
   "execution_count": 151,
   "metadata": {},
   "outputs": [
    {
     "name": "stdout",
     "output_type": "stream",
     "text": [
      "Accuracy: 61.33%\n",
      "[[12  0  0  0  1]\n",
      " [ 1 12  0  1  1]\n",
      " [ 0  1  7  3  4]\n",
      " [ 0  3  5 10  2]\n",
      " [ 0  5  1  1  5]]\n"
     ]
    }
   ],
   "source": [
    "XGB_pred,XGB_test,XGB_Acc=XGBclass(all_feats,i_labels_n,.25)\n",
    "\n",
    "print(confusion_matrix(XGB_test, XGB_pred))"
   ]
  },
  {
   "cell_type": "code",
   "execution_count": 152,
   "metadata": {},
   "outputs": [
    {
     "name": "stdout",
     "output_type": "stream",
     "text": [
      "                precision    recall  f1-score   support\n",
      "\n",
      "Bronchiectasis       0.92      0.92      0.92        13\n",
      "          COPD       0.57      0.80      0.67        15\n",
      "       Healthy       0.54      0.47      0.50        15\n",
      "     Pneumonia       0.67      0.50      0.57        20\n",
      "          URTI       0.38      0.42      0.40        12\n",
      "\n",
      "      accuracy                           0.61        75\n",
      "     macro avg       0.62      0.62      0.61        75\n",
      "  weighted avg       0.62      0.61      0.61        75\n",
      "\n"
     ]
    }
   ],
   "source": [
    "# Classification Report\n",
    "classification_results=sklearn.metrics.classification_report(XGB_test, XGB_pred, target_names=c_names)\n",
    "print(sklearn.metrics.classification_report(XGB_test, XGB_pred, target_names=c_names))\n"
   ]
  },
  {
   "cell_type": "markdown",
   "metadata": {},
   "source": [
    "# 5 Classes, Time features, With feature selection"
   ]
  },
  {
   "cell_type": "code",
   "execution_count": 155,
   "metadata": {},
   "outputs": [],
   "source": [
    "all_feats=np.vstack((Bronchiectasis_sample,copd_sample,healthy_sample,Pneumonia_sample,URTI_sample))\n",
    "np.shape(all_feats)  \n",
    "i_labels_n=np.hstack((BR_h,c_h,l_h,pn_h,URTI_h))"
   ]
  },
  {
   "cell_type": "code",
   "execution_count": 156,
   "metadata": {},
   "outputs": [
    {
     "name": "stdout",
     "output_type": "stream",
     "text": [
      "[12:54:26] WARNING: C:/Jenkins/workspace/xgboost-win64_release_0.90/src/objective/regression_obj.cu:152: reg:linear is now deprecated in favor of reg:squarederror.\n"
     ]
    },
    {
     "data": {
      "image/png": "[encoded data removed]",
      "text/plain": [
       "<Figure size 432x288 with 1 Axes>"
      ]
     },
     "metadata": {
      "needs_background": "light"
     },
     "output_type": "display_data"
    },
    {
     "data": {
      "image/png": "[encoded data removed]",
      "text/plain": [
       "<Figure size 432x288 with 1 Axes>"
      ]
     },
     "metadata": {
      "needs_background": "light"
     },
     "output_type": "display_data"
    }
   ],
   "source": [
    "features_score,feature_idx=XGBRgrssr(all_feats,i_labels_n,.75,0,200,.001)\n"
   ]
  },
  {
   "cell_type": "code",
   "execution_count": 167,
   "metadata": {},
   "outputs": [
    {
     "name": "stdout",
     "output_type": "stream",
     "text": [
      "Accuracy: 60.00%\n",
      "[[17  0  0  0  2]\n",
      " [ 2 11  1  2  0]\n",
      " [ 0  1  1  4  7]\n",
      " [ 0  1  1  9  3]\n",
      " [ 1  1  3  1  7]]\n"
     ]
    }
   ],
   "source": [
    "all_feats=pd.DataFrame(all_feats)[feature_idx]\n",
    "\n",
    "XGB_pred,XGB_test,XGB_Acc=XGBclass(all_feats,i_labels_n,.25)\n",
    "\n",
    "print(confusion_matrix(XGB_test, XGB_pred))"
   ]
  },
  {
   "cell_type": "code",
   "execution_count": 168,
   "metadata": {},
   "outputs": [
    {
     "name": "stdout",
     "output_type": "stream",
     "text": [
      "                precision    recall  f1-score   support\n",
      "\n",
      "Bronchiectasis       0.85      0.89      0.87        19\n",
      "          COPD       0.79      0.69      0.73        16\n",
      "       Healthy       0.17      0.08      0.11        13\n",
      "     Pneumonia       0.56      0.64      0.60        14\n",
      "          URTI       0.37      0.54      0.44        13\n",
      "\n",
      "      accuracy                           0.60        75\n",
      "     macro avg       0.55      0.57      0.55        75\n",
      "  weighted avg       0.58      0.60      0.58        75\n",
      "\n"
     ]
    }
   ],
   "source": [
    "# Classification Report\n",
    "classification_results=sklearn.metrics.classification_report(XGB_test, XGB_pred, target_names=c_names)\n",
    "print(sklearn.metrics.classification_report(XGB_test, XGB_pred, target_names=c_names))\n"
   ]
  },
  {
   "cell_type": "markdown",
   "metadata": {},
   "source": [
    "Feature selection shows NO effect on classification accuracy"
   ]
  },
  {
   "cell_type": "markdown",
   "metadata": {},
   "source": [
    "# 5 Classes, Frequency features, Without feature selection"
   ]
  },
  {
   "cell_type": "code",
   "execution_count": 173,
   "metadata": {},
   "outputs": [],
   "source": [
    "goal_features=F_features_s\n",
    "goal_labels=np.array(labels_new)\n",
    "N_features=goal_features.shape[1]"
   ]
  },
  {
   "cell_type": "code",
   "execution_count": 174,
   "metadata": {},
   "outputs": [],
   "source": [
    "Bronchiectasis_ids=pd.DataFrame(Bronchiectasis).sample(n = N_smpls) \n",
    "Bronchiectasis_ids = np.array(Bronchiectasis_ids)\n",
    "Bronchiectasis_sample=goal_features[Bronchiectasis_ids,:]\n",
    "Bronchiectasis_sample=Bronchiectasis_sample.reshape(N_smpls,N_features)\n",
    "BR_h=0*np.ones(Bronchiectasis_sample.shape[0])\n",
    "\n",
    "\n",
    "copd_ids=pd.DataFrame(COPD_idx).sample(n = N_smpls) \n",
    "copd_ids = np.array(copd_ids)\n",
    "copd_sample=goal_features[copd_ids,:]\n",
    "copd_sample=copd_sample.reshape(N_smpls,N_features)\n",
    "c_h=np.ones(copd_sample.shape[0])\n",
    "\n",
    "healthy_ids=pd.DataFrame(healthy).sample(n = N_smpls) \n",
    "healthy_ids = np.array(healthy_ids)\n",
    "healthy_sample=goal_features[healthy_ids,:]\n",
    "healthy_sample=healthy_sample.reshape(N_smpls,N_features)\n",
    "l_h=2*np.ones(healthy_sample.shape[0])\n",
    "\n",
    "\n",
    "Pneumonia_ids=pd.DataFrame(Pneumonia).sample(n = N_smpls) \n",
    "Pneumonia_ids = np.array(Pneumonia_ids)\n",
    "Pneumonia_sample=goal_features[Pneumonia_ids,:]\n",
    "Pneumonia_sample=Pneumonia_sample.reshape(N_smpls,N_features)\n",
    "pn_h=3*np.ones(Pneumonia_sample.shape[0])\n",
    "\n",
    "URTI_ids=pd.DataFrame(URTI).sample(n = N_smpls) \n",
    "URTI_ids = np.array(URTI_ids)\n",
    "URTI_sample=goal_features[URTI_ids,:]\n",
    "URTI_sample=URTI_sample.reshape(N_smpls,N_features)\n",
    "URTI_h=4*np.ones(URTI_sample.shape[0])"
   ]
  },
  {
   "cell_type": "code",
   "execution_count": 175,
   "metadata": {},
   "outputs": [],
   "source": [
    "all_feats=np.vstack((Bronchiectasis_sample,copd_sample,healthy_sample,Pneumonia_sample,URTI_sample))\n",
    "np.shape(all_feats)  \n",
    "i_labels_n=np.hstack((BR_h,c_h,l_h,pn_h,URTI_h))\n"
   ]
  },
  {
   "cell_type": "code",
   "execution_count": 176,
   "metadata": {},
   "outputs": [
    {
     "name": "stdout",
     "output_type": "stream",
     "text": [
      "Accuracy: 65.33%\n",
      "[[18  0  1  0  1]\n",
      " [ 1 11  1  1  0]\n",
      " [ 0  0  4  4  5]\n",
      " [ 0  3  1  6  2]\n",
      " [ 1  2  1  2 10]]\n"
     ]
    }
   ],
   "source": [
    "XGB_pred,XGB_test,XGB_Acc=XGBclass(all_feats,i_labels_n,.25)\n",
    "\n",
    "print(confusion_matrix(XGB_test, XGB_pred))"
   ]
  },
  {
   "cell_type": "code",
   "execution_count": 177,
   "metadata": {},
   "outputs": [
    {
     "name": "stdout",
     "output_type": "stream",
     "text": [
      "                precision    recall  f1-score   support\n",
      "\n",
      "Bronchiectasis       0.90      0.90      0.90        20\n",
      "          COPD       0.69      0.79      0.73        14\n",
      "       Healthy       0.50      0.31      0.38        13\n",
      "     Pneumonia       0.46      0.50      0.48        12\n",
      "          URTI       0.56      0.62      0.59        16\n",
      "\n",
      "      accuracy                           0.65        75\n",
      "     macro avg       0.62      0.62      0.62        75\n",
      "  weighted avg       0.65      0.65      0.65        75\n",
      "\n"
     ]
    }
   ],
   "source": [
    "# Classification Report\n",
    "classification_results=sklearn.metrics.classification_report(XGB_test, XGB_pred, target_names=c_names)\n",
    "print(sklearn.metrics.classification_report(XGB_test, XGB_pred, target_names=c_names))\n"
   ]
  },
  {
   "cell_type": "markdown",
   "metadata": {},
   "source": [
    "# 5 Classes, Frequency features, With feature selection"
   ]
  },
  {
   "cell_type": "code",
   "execution_count": 180,
   "metadata": {},
   "outputs": [],
   "source": [
    "all_feats=np.vstack((Bronchiectasis_sample,copd_sample,healthy_sample,Pneumonia_sample,URTI_sample))\n",
    "np.shape(all_feats)  \n",
    "i_labels_n=np.hstack((BR_h,c_h,l_h,pn_h,URTI_h))\n"
   ]
  },
  {
   "cell_type": "code",
   "execution_count": 181,
   "metadata": {},
   "outputs": [
    {
     "name": "stdout",
     "output_type": "stream",
     "text": [
      "[13:01:30] WARNING: C:/Jenkins/workspace/xgboost-win64_release_0.90/src/objective/regression_obj.cu:152: reg:linear is now deprecated in favor of reg:squarederror.\n"
     ]
    },
    {
     "data": {
      "image/png": "[encoded data removed]",
      "text/plain": [
       "<Figure size 432x288 with 1 Axes>"
      ]
     },
     "metadata": {
      "needs_background": "light"
     },
     "output_type": "display_data"
    },
    {
     "data": {
      "image/png": "[encoded data removed]",
      "text/plain": [
       "<Figure size 432x288 with 1 Axes>"
      ]
     },
     "metadata": {
      "needs_background": "light"
     },
     "output_type": "display_data"
    }
   ],
   "source": [
    "features_score,feature_idx=XGBRgrssr(all_feats,i_labels_n,.75,0,200,.001)\n",
    "\n",
    "all_feats=pd.DataFrame(all_feats)[feature_idx]\n"
   ]
  },
  {
   "cell_type": "code",
   "execution_count": 185,
   "metadata": {},
   "outputs": [
    {
     "name": "stdout",
     "output_type": "stream",
     "text": [
      "Accuracy: 72.00%\n",
      "[[14  0  1  0  1]\n",
      " [ 0 19  0  0  0]\n",
      " [ 0  0  7  1  3]\n",
      " [ 0  0  3  9  3]\n",
      " [ 0  2  6  1  5]]\n"
     ]
    }
   ],
   "source": [
    "XGB_pred,XGB_test,XGB_Acc=XGBclass(all_feats,i_labels_n,.25)\n",
    "\n",
    "print(confusion_matrix(XGB_test, XGB_pred))"
   ]
  },
  {
   "cell_type": "markdown",
   "metadata": {},
   "source": [
    "# 5 Classes, Sound features, Without feature selection"
   ]
  },
  {
   "cell_type": "code",
   "execution_count": 188,
   "metadata": {},
   "outputs": [
    {
     "name": "stdout",
     "output_type": "stream",
     "text": [
      "1563\n"
     ]
    }
   ],
   "source": [
    "goal_features=S_features_s\n",
    "goal_labels=np.array(labels_new)\n",
    "N_features=goal_features.shape[1]\n",
    "print(N_features)"
   ]
  },
  {
   "cell_type": "code",
   "execution_count": 189,
   "metadata": {},
   "outputs": [],
   "source": [
    "Bronchiectasis_ids=pd.DataFrame(Bronchiectasis).sample(n = N_smpls) \n",
    "Bronchiectasis_ids = np.array(Bronchiectasis_ids)\n",
    "Bronchiectasis_sample=goal_features[Bronchiectasis_ids,:]\n",
    "Bronchiectasis_sample=Bronchiectasis_sample.reshape(N_smpls,N_features)\n",
    "BR_h=0*np.ones(Bronchiectasis_sample.shape[0])\n",
    "\n",
    "\n",
    "copd_ids=pd.DataFrame(COPD_idx).sample(n = N_smpls) \n",
    "copd_ids = np.array(copd_ids)\n",
    "copd_sample=goal_features[copd_ids,:]\n",
    "copd_sample=copd_sample.reshape(N_smpls,N_features)\n",
    "c_h=np.ones(copd_sample.shape[0])\n",
    "\n",
    "healthy_ids=pd.DataFrame(healthy).sample(n = N_smpls) \n",
    "healthy_ids = np.array(healthy_ids)\n",
    "healthy_sample=goal_features[healthy_ids,:]\n",
    "healthy_sample=healthy_sample.reshape(N_smpls,N_features)\n",
    "l_h=2*np.ones(healthy_sample.shape[0])\n",
    "\n",
    "\n",
    "Pneumonia_ids=pd.DataFrame(Pneumonia).sample(n = N_smpls) \n",
    "Pneumonia_ids = np.array(Pneumonia_ids)\n",
    "Pneumonia_sample=goal_features[Pneumonia_ids,:]\n",
    "Pneumonia_sample=Pneumonia_sample.reshape(N_smpls,N_features)\n",
    "pn_h=3*np.ones(Pneumonia_sample.shape[0])\n",
    "\n",
    "URTI_ids=pd.DataFrame(URTI).sample(n = N_smpls) \n",
    "URTI_ids = np.array(URTI_ids)\n",
    "URTI_sample=goal_features[URTI_ids,:]\n",
    "URTI_sample=URTI_sample.reshape(N_smpls,N_features)\n",
    "URTI_h=4*np.ones(URTI_sample.shape[0])\n"
   ]
  },
  {
   "cell_type": "code",
   "execution_count": 190,
   "metadata": {},
   "outputs": [],
   "source": [
    "all_feats=np.vstack((Bronchiectasis_sample,copd_sample,healthy_sample,Pneumonia_sample,URTI_sample))\n",
    "np.shape(all_feats)  \n",
    "i_labels_n=np.hstack((BR_h,c_h,l_h,pn_h,URTI_h))\n"
   ]
  },
  {
   "cell_type": "code",
   "execution_count": 193,
   "metadata": {},
   "outputs": [
    {
     "name": "stdout",
     "output_type": "stream",
     "text": [
      "Accuracy: 73.33%\n",
      "[[ 7  0  0  1  0]\n",
      " [ 0 17  0  4  0]\n",
      " [ 0  0 11  1  3]\n",
      " [ 0  0  0 10  1]\n",
      " [ 0  2  7  1 10]]\n"
     ]
    }
   ],
   "source": [
    "XGB_pred,XGB_test,XGB_Acc=XGBclass(all_feats,i_labels_n,.25)\n",
    "\n",
    "print(confusion_matrix(XGB_test, XGB_pred))"
   ]
  },
  {
   "cell_type": "code",
   "execution_count": 194,
   "metadata": {},
   "outputs": [
    {
     "name": "stdout",
     "output_type": "stream",
     "text": [
      "                precision    recall  f1-score   support\n",
      "\n",
      "Bronchiectasis       1.00      0.88      0.93         8\n",
      "          COPD       0.89      0.81      0.85        21\n",
      "       Healthy       0.61      0.73      0.67        15\n",
      "     Pneumonia       0.59      0.91      0.71        11\n",
      "          URTI       0.71      0.50      0.59        20\n",
      "\n",
      "      accuracy                           0.73        75\n",
      "     macro avg       0.76      0.77      0.75        75\n",
      "  weighted avg       0.76      0.73      0.73        75\n",
      "\n"
     ]
    }
   ],
   "source": [
    "# Classification Report\n",
    "classification_results=sklearn.metrics.classification_report(XGB_test, XGB_pred, target_names=c_names)\n",
    "print(sklearn.metrics.classification_report(XGB_test, XGB_pred, target_names=c_names))\n"
   ]
  },
  {
   "cell_type": "markdown",
   "metadata": {},
   "source": [
    "# 5 Classes, Sound features, With feature selection"
   ]
  },
  {
   "cell_type": "code",
   "execution_count": 197,
   "metadata": {},
   "outputs": [],
   "source": [
    "all_feats=np.vstack((Bronchiectasis_sample,copd_sample,healthy_sample,Pneumonia_sample,URTI_sample))\n",
    "np.shape(all_feats)  \n",
    "i_labels_n=np.hstack((BR_h,c_h,l_h,pn_h,URTI_h))"
   ]
  },
  {
   "cell_type": "code",
   "execution_count": 198,
   "metadata": {},
   "outputs": [
    {
     "name": "stdout",
     "output_type": "stream",
     "text": [
      "[13:07:57] WARNING: C:/Jenkins/workspace/xgboost-win64_release_0.90/src/objective/regression_obj.cu:152: reg:linear is now deprecated in favor of reg:squarederror.\n"
     ]
    },
    {
     "data": {
      "image/png": "[encoded data removed]",
      "text/plain": [
       "<Figure size 432x288 with 1 Axes>"
      ]
     },
     "metadata": {
      "needs_background": "light"
     },
     "output_type": "display_data"
    },
    {
     "data": {
      "image/png": "[encoded data removed]",
      "text/plain": [
       "<Figure size 432x288 with 1 Axes>"
      ]
     },
     "metadata": {
      "needs_background": "light"
     },
     "output_type": "display_data"
    }
   ],
   "source": [
    "features_score,feature_idx=XGBRgrssr(all_feats,i_labels_n,.75,0,200,.001)\n",
    "\n",
    "all_feats=pd.DataFrame(all_feats)[feature_idx]\n"
   ]
  },
  {
   "cell_type": "code",
   "execution_count": 200,
   "metadata": {},
   "outputs": [
    {
     "name": "stdout",
     "output_type": "stream",
     "text": [
      "Accuracy: 62.67%\n",
      "[[ 5  0  1  1  1]\n",
      " [ 0 15  1  5  0]\n",
      " [ 1  0  7  3  4]\n",
      " [ 0  0  1 10  0]\n",
      " [ 0  0  9  1 10]]\n"
     ]
    }
   ],
   "source": [
    "XGB_pred,XGB_test,XGB_Acc=XGBclass(all_feats,i_labels_n,.25)\n",
    "\n",
    "print(confusion_matrix(XGB_test, XGB_pred))"
   ]
  },
  {
   "cell_type": "code",
   "execution_count": 201,
   "metadata": {},
   "outputs": [
    {
     "name": "stdout",
     "output_type": "stream",
     "text": [
      "                precision    recall  f1-score   support\n",
      "\n",
      "Bronchiectasis       0.83      0.62      0.71         8\n",
      "          COPD       1.00      0.71      0.83        21\n",
      "       Healthy       0.37      0.47      0.41        15\n",
      "     Pneumonia       0.50      0.91      0.65        11\n",
      "          URTI       0.67      0.50      0.57        20\n",
      "\n",
      "      accuracy                           0.63        75\n",
      "     macro avg       0.67      0.64      0.64        75\n",
      "  weighted avg       0.69      0.63      0.64        75\n",
      "\n"
     ]
    }
   ],
   "source": [
    "# Classification Report\n",
    "classification_results=sklearn.metrics.classification_report(XGB_test, XGB_pred, target_names=c_names)\n",
    "print(sklearn.metrics.classification_report(XGB_test, XGB_pred, target_names=c_names))\n"
   ]
  },
  {
   "cell_type": "markdown",
   "metadata": {},
   "source": [
    "# 6 Classes (Imbalance data), Time features, Without feature selection"
   ]
  },
  {
   "cell_type": "code",
   "execution_count": 209,
   "metadata": {},
   "outputs": [
    {
     "name": "stdout",
     "output_type": "stream",
     "text": [
      "(3680, 19)\n",
      "(3680,)\n"
     ]
    }
   ],
   "source": [
    "c_names = ['Bronchiectasis', 'Bronchiolitis', 'COPD', 'Healthy', 'Pneumonia', 'URTI']\n",
    "num_clss = len(c_names)\n",
    "\n",
    "goal_features=T_features_s\n",
    "goal_labels=np.array(labels_new)\n",
    "print(np.shape(goal_features))\n",
    "print(np.shape(goal_labels))"
   ]
  },
  {
   "cell_type": "markdown",
   "metadata": {},
   "source": [
    "In addition, Ashtma and LTRI should be removed since theier quantity is 4 and 8 samples and it would not be enough for training and testing Machine Learning methods such as XGB, SVM and LSTM"
   ]
  },
  {
   "cell_type": "code",
   "execution_count": 210,
   "metadata": {},
   "outputs": [
    {
     "name": "stdout",
     "output_type": "stream",
     "text": [
      "(3668, 19)\n",
      "(3668,)\n"
     ]
    }
   ],
   "source": [
    "goal_features= np.delete(goal_features, np.where((goal_labels == 'Asthma') | (goal_labels == 'LRTI'))[0], axis=0) \n",
    "goal_labels = np.delete(goal_labels, np.where((goal_labels == 'Asthma') | (goal_labels == 'LRTI'))[0], axis=0)\n",
    "print(np.shape(goal_features))\n",
    "print(np.shape(goal_labels))"
   ]
  },
  {
   "cell_type": "code",
   "execution_count": 212,
   "metadata": {},
   "outputs": [
    {
     "name": "stdout",
     "output_type": "stream",
     "text": [
      "[['Bronchiectasis' 'Bronchiolitis' 'COPD' 'Healthy' 'Pneumonia' 'URTI']\n",
      " ['64' '52' '3172' '140' '148' '92']]\n"
     ]
    },
    {
     "data": {
      "image/png": "[encoded data removed]",
      "text/plain": [
       "<Figure size 720x432 with 1 Axes>"
      ]
     },
     "metadata": {
      "needs_background": "light"
     },
     "output_type": "display_data"
    }
   ],
   "source": [
    "unique_elements, counts_elements = np.unique(goal_labels, return_counts=True)\n",
    "print(np.asarray((unique_elements, counts_elements)))\n",
    "#plot the quantity of conditions\n",
    "y_pos = np.arange(len(unique_elements))\n",
    "plt.figure(figsize=(10,6))\n",
    "plt.bar(unique_elements, counts_elements, align='center', alpha=0.5,color='b')\n",
    "plt.xticks(y_pos, unique_elements)\n",
    "plt.ylabel('Count')\n",
    "plt.xlabel('Disease')\n",
    "plt.title('Disease Count in Sound Files')\n",
    "plt.show()"
   ]
  },
  {
   "cell_type": "code",
   "execution_count": 213,
   "metadata": {},
   "outputs": [],
   "source": [
    "le = LabelEncoder()\n",
    "i_labels = le.fit_transform(goal_labels)"
   ]
  },
  {
   "cell_type": "code",
   "execution_count": 214,
   "metadata": {},
   "outputs": [
    {
     "name": "stdout",
     "output_type": "stream",
     "text": [
      "Accuracy: 85.93%\n",
      "[[  2   0  19   0   0   0]\n",
      " [  0   0  13   1   0   1]\n",
      " [  1   1 784   0   2   0]\n",
      " [  0   0  38   1   0   3]\n",
      " [  0   0  29   0   0   0]\n",
      " [  0   0  20   1   0   1]]\n"
     ]
    }
   ],
   "source": [
    "XGB_pred,XGB_test,XGB_Acc=XGBclass(goal_features,i_labels,.25)\n",
    "\n",
    "print(confusion_matrix(XGB_test, XGB_pred))"
   ]
  },
  {
   "cell_type": "code",
   "execution_count": 216,
   "metadata": {
    "scrolled": true
   },
   "outputs": [
    {
     "name": "stdout",
     "output_type": "stream",
     "text": [
      "                precision    recall  f1-score   support\n",
      "\n",
      "Bronchiectasis       0.67      0.10      0.17        21\n",
      " Bronchiolitis       0.00      0.00      0.00        15\n",
      "          COPD       0.87      0.99      0.93       788\n",
      "       Healthy       0.33      0.02      0.04        42\n",
      "     Pneumonia       0.00      0.00      0.00        29\n",
      "          URTI       0.20      0.05      0.07        22\n",
      "\n",
      "      accuracy                           0.86       917\n",
      "     macro avg       0.34      0.19      0.20       917\n",
      "  weighted avg       0.78      0.86      0.80       917\n",
      "\n"
     ]
    }
   ],
   "source": [
    "# Classification Report\n",
    "classification_results=sklearn.metrics.classification_report(XGB_test, XGB_pred, target_names=c_names)\n",
    "print(sklearn.metrics.classification_report(XGB_test, XGB_pred, target_names=c_names))\n"
   ]
  },
  {
   "cell_type": "markdown",
   "metadata": {},
   "source": [
    "# 6 Classes (Imbalance data), Time features, With feature selection"
   ]
  },
  {
   "cell_type": "code",
   "execution_count": 220,
   "metadata": {},
   "outputs": [
    {
     "name": "stdout",
     "output_type": "stream",
     "text": [
      "[13:23:20] WARNING: C:/Jenkins/workspace/xgboost-win64_release_0.90/src/objective/regression_obj.cu:152: reg:linear is now deprecated in favor of reg:squarederror.\n"
     ]
    },
    {
     "data": {
      "image/png": "[encoded data removed]",
      "text/plain": [
       "<Figure size 432x288 with 1 Axes>"
      ]
     },
     "metadata": {
      "needs_background": "light"
     },
     "output_type": "display_data"
    },
    {
     "data": {
      "image/png": "[encoded data removed]",
      "text/plain": [
       "<Figure size 432x288 with 1 Axes>"
      ]
     },
     "metadata": {
      "needs_background": "light"
     },
     "output_type": "display_data"
    }
   ],
   "source": [
    "features_score,feature_idx=XGBRgrssr(goal_features,i_labels,.75,0,2000,.001)\n",
    "goal_features=pd.DataFrame(goal_features)[feature_idx]\n"
   ]
  },
  {
   "cell_type": "code",
   "execution_count": 221,
   "metadata": {},
   "outputs": [
    {
     "name": "stdout",
     "output_type": "stream",
     "text": [
      "Accuracy: 86.04%\n",
      "[[  2   0  19   0   0   0]\n",
      " [  0   0  14   1   0   0]\n",
      " [  1   1 784   0   2   0]\n",
      " [  0   0  39   1   0   2]\n",
      " [  0   0  29   0   0   0]\n",
      " [  0   0  19   1   0   2]]\n"
     ]
    }
   ],
   "source": [
    "XGB_pred,XGB_test,XGB_Acc=XGBclass(goal_features,i_labels,.25)\n",
    "\n",
    "print(confusion_matrix(XGB_test, XGB_pred))"
   ]
  },
  {
   "cell_type": "markdown",
   "metadata": {},
   "source": [
    "Overfitting can be seen. The accuracy is high but it is not reliable\n",
    "Feature selection was not able to eliminate effect of overfitting."
   ]
  },
  {
   "cell_type": "markdown",
   "metadata": {},
   "source": [
    "# 6 Classes (Imbalance data), Frequency features, Without feature selection"
   ]
  },
  {
   "cell_type": "code",
   "execution_count": 222,
   "metadata": {},
   "outputs": [],
   "source": [
    "goal_features=F_features_s\n",
    "goal_labels=np.array(labels_new)"
   ]
  },
  {
   "cell_type": "code",
   "execution_count": 223,
   "metadata": {},
   "outputs": [],
   "source": [
    "goal_features = np.delete(goal_features, np.where((goal_labels == 'Asthma') | (goal_labels == 'LRTI'))[0], axis=0) \n",
    "goal_labels = np.delete(goal_labels, np.where((goal_labels == 'Asthma') | (goal_labels == 'LRTI'))[0], axis=0)\n"
   ]
  },
  {
   "cell_type": "code",
   "execution_count": 224,
   "metadata": {},
   "outputs": [],
   "source": [
    "le = LabelEncoder()\n",
    "i_labels = le.fit_transform(goal_labels)"
   ]
  },
  {
   "cell_type": "code",
   "execution_count": 235,
   "metadata": {},
   "outputs": [
    {
     "name": "stdout",
     "output_type": "stream",
     "text": [
      "Accuracy: 88.55%\n",
      "[[  4   0  11   0   0   0]\n",
      " [  0   0  11   1   0   1]\n",
      " [  3   1 802   1   0   1]\n",
      " [  0   0  26   3   2   1]\n",
      " [  0   0  28   0   3   0]\n",
      " [  0   0  15   3   0   0]]\n"
     ]
    }
   ],
   "source": [
    "XGB_pred,XGB_test,XGB_Acc=XGBclass(goal_features,i_labels,.25)\n",
    "\n",
    "print(confusion_matrix(XGB_test, XGB_pred))"
   ]
  },
  {
   "cell_type": "code",
   "execution_count": 236,
   "metadata": {},
   "outputs": [
    {
     "name": "stdout",
     "output_type": "stream",
     "text": [
      "                precision    recall  f1-score   support\n",
      "\n",
      "Bronchiectasis       0.57      0.27      0.36        15\n",
      " Bronchiolitis       0.00      0.00      0.00        13\n",
      "          COPD       0.90      0.99      0.94       808\n",
      "       Healthy       0.38      0.09      0.15        32\n",
      "     Pneumonia       0.60      0.10      0.17        31\n",
      "          URTI       0.00      0.00      0.00        18\n",
      "\n",
      "      accuracy                           0.89       917\n",
      "     macro avg       0.41      0.24      0.27       917\n",
      "  weighted avg       0.83      0.89      0.85       917\n",
      "\n"
     ]
    }
   ],
   "source": [
    "# Classification Report\n",
    "classification_results=sklearn.metrics.classification_report(XGB_test, XGB_pred, target_names=c_names)\n",
    "print(sklearn.metrics.classification_report(XGB_test, XGB_pred, target_names=c_names))\n"
   ]
  },
  {
   "cell_type": "markdown",
   "metadata": {},
   "source": [
    "# 6 Classes (Imbalance data), Frequency features, With feature selection"
   ]
  },
  {
   "cell_type": "code",
   "execution_count": 244,
   "metadata": {},
   "outputs": [],
   "source": [
    "goal_features=F_features_s\n",
    "goal_labels=np.array(labels_new)\n",
    "\n",
    "goal_features = np.delete(goal_features, np.where((goal_labels == 'Asthma') | (goal_labels == 'LRTI'))[0], axis=0) \n",
    "goal_labels = np.delete(goal_labels, np.where((goal_labels == 'Asthma') | (goal_labels == 'LRTI'))[0], axis=0)\n",
    "\n",
    "le = LabelEncoder()\n",
    "i_labels = le.fit_transform(goal_labels)"
   ]
  },
  {
   "cell_type": "code",
   "execution_count": 245,
   "metadata": {},
   "outputs": [
    {
     "name": "stdout",
     "output_type": "stream",
     "text": [
      "[13:34:14] WARNING: C:/Jenkins/workspace/xgboost-win64_release_0.90/src/objective/regression_obj.cu:152: reg:linear is now deprecated in favor of reg:squarederror.\n"
     ]
    },
    {
     "data": {
      "image/png": "[encoded data removed]",
      "text/plain": [
       "<Figure size 432x288 with 1 Axes>"
      ]
     },
     "metadata": {
      "needs_background": "light"
     },
     "output_type": "display_data"
    },
    {
     "data": {
      "image/png": "[encoded data removed]",
      "text/plain": [
       "<Figure size 432x288 with 1 Axes>"
      ]
     },
     "metadata": {
      "needs_background": "light"
     },
     "output_type": "display_data"
    }
   ],
   "source": [
    "features_score,feature_idx=XGBRgrssr(goal_features,i_labels,.75,0.2,500,.001)\n",
    "\n",
    "goal_features=pd.DataFrame(goal_features)[feature_idx]\n"
   ]
  },
  {
   "cell_type": "code",
   "execution_count": 246,
   "metadata": {},
   "outputs": [
    {
     "name": "stdout",
     "output_type": "stream",
     "text": [
      "Accuracy: 86.04%\n",
      "[[  4   0   8   0   0   0]\n",
      " [  0   0  20   0   0   0]\n",
      " [  1   0 783   2   5   0]\n",
      " [  0   0  34   1   1   1]\n",
      " [  0   0  39   0   0   0]\n",
      " [  0   0  16   1   0   1]]\n"
     ]
    }
   ],
   "source": [
    "XGB_pred,XGB_test,XGB_Acc=XGBclass(goal_features,i_labels,.25)\n",
    "\n",
    "print(confusion_matrix(XGB_test, XGB_pred))"
   ]
  },
  {
   "cell_type": "code",
   "execution_count": 247,
   "metadata": {},
   "outputs": [
    {
     "name": "stdout",
     "output_type": "stream",
     "text": [
      "                precision    recall  f1-score   support\n",
      "\n",
      "Bronchiectasis       0.80      0.33      0.47        12\n",
      " Bronchiolitis       0.00      0.00      0.00        20\n",
      "          COPD       0.87      0.99      0.93       791\n",
      "       Healthy       0.25      0.03      0.05        37\n",
      "     Pneumonia       0.00      0.00      0.00        39\n",
      "          URTI       0.50      0.06      0.10        18\n",
      "\n",
      "      accuracy                           0.86       917\n",
      "     macro avg       0.40      0.23      0.26       917\n",
      "  weighted avg       0.78      0.86      0.81       917\n",
      "\n"
     ]
    }
   ],
   "source": [
    "# Classification Report\n",
    "classification_results=sklearn.metrics.classification_report(XGB_test, XGB_pred, target_names=c_names)\n",
    "print(sklearn.metrics.classification_report(XGB_test, XGB_pred, target_names=c_names))\n"
   ]
  },
  {
   "cell_type": "markdown",
   "metadata": {},
   "source": [
    "# 6 Classes (Imbalance data), Sound features, Without feature selection"
   ]
  },
  {
   "cell_type": "code",
   "execution_count": 250,
   "metadata": {},
   "outputs": [],
   "source": [
    "goal_features=S_features_s\n",
    "goal_labels=np.array(labels_new)\n",
    "\n",
    "goal_features = np.delete(goal_features, np.where((goal_labels == 'Asthma') | (goal_labels == 'LRTI'))[0], axis=0) \n",
    "goal_labels = np.delete(goal_labels, np.where((goal_labels == 'Asthma') | (goal_labels == 'LRTI'))[0], axis=0)\n",
    "\n",
    "le = LabelEncoder()\n",
    "i_labels = le.fit_transform(goal_labels)"
   ]
  },
  {
   "cell_type": "code",
   "execution_count": 255,
   "metadata": {},
   "outputs": [
    {
     "name": "stdout",
     "output_type": "stream",
     "text": [
      "Accuracy: 92.80%\n",
      "[[ 13   1   3   0   0   2]\n",
      " [  0   4   0   4   0   3]\n",
      " [  0   0 782   2   3   0]\n",
      " [  0   1  10  25   2   5]\n",
      " [  0   0  13   2  22   1]\n",
      " [  0   2   5   6   1   5]]\n"
     ]
    }
   ],
   "source": [
    "XGB_pred,XGB_test,XGB_Acc=XGBclass(goal_features,i_labels,.25)\n",
    "\n",
    "print(confusion_matrix(XGB_test, XGB_pred))"
   ]
  },
  {
   "cell_type": "code",
   "execution_count": 256,
   "metadata": {},
   "outputs": [
    {
     "name": "stdout",
     "output_type": "stream",
     "text": [
      "                precision    recall  f1-score   support\n",
      "\n",
      "Bronchiectasis       1.00      0.68      0.81        19\n",
      " Bronchiolitis       0.50      0.36      0.42        11\n",
      "          COPD       0.96      0.99      0.98       787\n",
      "       Healthy       0.64      0.58      0.61        43\n",
      "     Pneumonia       0.79      0.58      0.67        38\n",
      "          URTI       0.31      0.26      0.29        19\n",
      "\n",
      "      accuracy                           0.93       917\n",
      "     macro avg       0.70      0.58      0.63       917\n",
      "  weighted avg       0.92      0.93      0.92       917\n",
      "\n"
     ]
    }
   ],
   "source": [
    "# Classification Report\n",
    "classification_results=sklearn.metrics.classification_report(XGB_test, XGB_pred, target_names=c_names)\n",
    "print(sklearn.metrics.classification_report(XGB_test, XGB_pred, target_names=c_names))\n"
   ]
  },
  {
   "cell_type": "code",
   "execution_count": 253,
   "metadata": {},
   "outputs": [
    {
     "data": {
      "image/png": "[encoded data removed]",
      "text/plain": [
       "<Figure size 864x432 with 1 Axes>"
      ]
     },
     "metadata": {
      "needs_background": "light"
     },
     "output_type": "display_data"
    }
   ],
   "source": [
    "Oh_pred = to_categorical(XGB_pred) \n",
    "Oh_true = to_categorical(XGB_test) \n",
    "\n",
    "# Compute ROC curve and ROC area for each class\n",
    "fpr = dict()\n",
    "tpr = dict()\n",
    "roc_auc = dict()\n",
    "for i in range(num_clss):\n",
    "    fpr[i], tpr[i],_= roc_curve(Oh_true[:, i], Oh_pred[:, i])\n",
    "    roc_auc[i] = auc(fpr[i], tpr[i])\n",
    "\n",
    "\n",
    "\n",
    "# Plot ROC curves\n",
    "fig, ax = plt.subplots(figsize=(12, 6))\n",
    "ax.plot([0, 1], [0, 1], 'k--')\n",
    "ax.set_xlim([0.0, 1.0])\n",
    "ax.set_ylim([0.0, 1.05])\n",
    "ax.set_xlabel('False Positive Rate')\n",
    "ax.set_ylabel('True Positive Rate')\n",
    "ax.set_title('ROC Curve for Each Class')\n",
    "for i in range(num_clss):\n",
    "    ax.plot(fpr[i], tpr[i], linewidth=3, label='ROC curve (area = %0.2f) for %s' % (roc_auc[i], c_names[i]))\n",
    "ax.legend(loc=\"lower right\", fontsize='x-large')\n",
    "ax.grid(alpha=.4)\n",
    "sns.despine()\n",
    "plt.show()"
   ]
  },
  {
   "cell_type": "code",
   "execution_count": 257,
   "metadata": {},
   "outputs": [
    {
     "name": "stdout",
     "output_type": "stream",
     "text": [
      "[0.8181818181818181, 0.6222375690607735, 0.7966704556218623, 0.679502171734046, 0.76182758016471, 0.7834821428571429]\n",
      "0.7436502896033921\n"
     ]
    }
   ],
   "source": [
    "AUc=[]\n",
    "for i in range(num_clss):\n",
    "    AUc.append(sklearn.metrics.auc(fpr[i], tpr[i]))\n",
    "\n",
    "print(AUc)\n",
    "print(np.mean(AUc))"
   ]
  },
  {
   "cell_type": "markdown",
   "metadata": {},
   "source": [
    "The Sound features seem to help features to overcome overfitting. "
   ]
  },
  {
   "cell_type": "markdown",
   "metadata": {},
   "source": [
    "# 6 Classes (Imbalance data), Sound features, With feature selection"
   ]
  },
  {
   "cell_type": "code",
   "execution_count": 258,
   "metadata": {},
   "outputs": [],
   "source": [
    "goal_features=S_features_s\n",
    "goal_labels=np.array(labels_new)\n",
    "\n",
    "goal_features = np.delete(goal_features, np.where((goal_labels == 'Asthma') | (goal_labels == 'LRTI'))[0], axis=0) \n",
    "goal_labels = np.delete(goal_labels, np.where((goal_labels == 'Asthma') | (goal_labels == 'LRTI'))[0], axis=0)\n",
    "\n",
    "le = LabelEncoder()\n",
    "i_labels = le.fit_transform(goal_labels)"
   ]
  },
  {
   "cell_type": "code",
   "execution_count": 259,
   "metadata": {},
   "outputs": [
    {
     "name": "stdout",
     "output_type": "stream",
     "text": [
      "[13:46:41] WARNING: C:/Jenkins/workspace/xgboost-win64_release_0.90/src/objective/regression_obj.cu:152: reg:linear is now deprecated in favor of reg:squarederror.\n"
     ]
    },
    {
     "data": {
      "image/png": "[encoded data removed]",
      "text/plain": [
       "<Figure size 432x288 with 1 Axes>"
      ]
     },
     "metadata": {
      "needs_background": "light"
     },
     "output_type": "display_data"
    },
    {
     "data": {
      "image/png": "[encoded data removed]",
      "text/plain": [
       "<Figure size 432x288 with 1 Axes>"
      ]
     },
     "metadata": {
      "needs_background": "light"
     },
     "output_type": "display_data"
    }
   ],
   "source": [
    "features_score,feature_idx=XGBRgrssr(goal_features,i_labels,.75,0,200,.001)\n",
    "goal_features=pd.DataFrame(goal_features)[feature_idx]\n"
   ]
  },
  {
   "cell_type": "code",
   "execution_count": 260,
   "metadata": {},
   "outputs": [
    {
     "name": "stdout",
     "output_type": "stream",
     "text": [
      "Accuracy: 91.60%\n",
      "[[ 15   0   4   0   0   0]\n",
      " [  0   5   5   1   0   1]\n",
      " [  4   0 782   5   4   1]\n",
      " [  0   1  11  12   4   5]\n",
      " [  0   0  18   3  15   0]\n",
      " [  0   2   4   4   0  11]]\n"
     ]
    }
   ],
   "source": [
    "XGB_pred,XGB_test,XGB_Acc=XGBclass(goal_features,i_labels,.25)\n",
    "\n",
    "print(confusion_matrix(XGB_test, XGB_pred))"
   ]
  },
  {
   "cell_type": "code",
   "execution_count": 261,
   "metadata": {},
   "outputs": [
    {
     "name": "stdout",
     "output_type": "stream",
     "text": [
      "                precision    recall  f1-score   support\n",
      "\n",
      "Bronchiectasis       0.79      0.79      0.79        19\n",
      " Bronchiolitis       0.62      0.42      0.50        12\n",
      "          COPD       0.95      0.98      0.97       796\n",
      "       Healthy       0.48      0.36      0.41        33\n",
      "     Pneumonia       0.65      0.42      0.51        36\n",
      "          URTI       0.61      0.52      0.56        21\n",
      "\n",
      "      accuracy                           0.92       917\n",
      "     macro avg       0.68      0.58      0.62       917\n",
      "  weighted avg       0.91      0.92      0.91       917\n",
      "\n"
     ]
    }
   ],
   "source": [
    "# Classification Report\n",
    "classification_results=sklearn.metrics.classification_report(XGB_test, XGB_pred, target_names=c_names)\n",
    "print(sklearn.metrics.classification_report(XGB_test, XGB_pred, target_names=c_names))\n"
   ]
  },
  {
   "cell_type": "code",
   "execution_count": 262,
   "metadata": {},
   "outputs": [
    {
     "data": {
      "image/png": "[encoded data removed]",
      "text/plain": [
       "<Figure size 864x432 with 1 Axes>"
      ]
     },
     "metadata": {
      "needs_background": "light"
     },
     "output_type": "display_data"
    }
   ],
   "source": [
    "Oh_pred = to_categorical(XGB_pred) \n",
    "Oh_true = to_categorical(XGB_test) \n",
    "\n",
    "# Compute ROC curve and ROC area for each class\n",
    "fpr = dict()\n",
    "tpr = dict()\n",
    "roc_auc = dict()\n",
    "for i in range(num_clss):\n",
    "    fpr[i], tpr[i],_= roc_curve(Oh_true[:, i], Oh_pred[:, i])\n",
    "    roc_auc[i] = auc(fpr[i], tpr[i])\n",
    "\n",
    "\n",
    "\n",
    "# Plot ROC curves\n",
    "fig, ax = plt.subplots(figsize=(12, 6))\n",
    "ax.plot([0, 1], [0, 1], 'k--')\n",
    "ax.set_xlim([0.0, 1.0])\n",
    "ax.set_ylim([0.0, 1.05])\n",
    "ax.set_xlabel('False Positive Rate')\n",
    "ax.set_ylabel('True Positive Rate')\n",
    "ax.set_title('ROC Curve for Each Class')\n",
    "for i in range(num_clss):\n",
    "    ax.plot(fpr[i], tpr[i], linewidth=3, label='ROC curve (area = %0.2f) for %s' % (roc_auc[i], c_names[i]))\n",
    "ax.legend(loc=\"lower right\", fontsize='x-large')\n",
    "ax.grid(alpha=.4)\n",
    "sns.despine()\n",
    "plt.show()"
   ]
  },
  {
   "cell_type": "code",
   "execution_count": 263,
   "metadata": {},
   "outputs": [
    {
     "name": "stdout",
     "output_type": "stream",
     "text": [
      "[0.8925096706130582, 0.7066758747697975, 0.8176523111424893, 0.6744652406417113, 0.7037930382141506, 0.7579985119047619]\n",
      "0.7588491078809948\n"
     ]
    }
   ],
   "source": [
    "AUc=[]\n",
    "for i in range(num_clss):\n",
    "    AUc.append(sklearn.metrics.auc(fpr[i], tpr[i]))\n",
    "\n",
    "print(AUc)\n",
    "print(np.mean(AUc))"
   ]
  }
 ],
 "metadata": {
  "kernelspec": {
   "display_name": "Python 3",
   "language": "python",
   "name": "python3"
  },
  "language_info": {
   "codemirror_mode": {
    "name": "ipython",
    "version": 3
   },
   "file_extension": ".py",
   "mimetype": "text/x-python",
   "name": "python",
   "nbconvert_exporter": "python",
   "pygments_lexer": "ipython3",
   "version": "3.7.4"
  }
 },
 "nbformat": 4,
 "nbformat_minor": 2
}
