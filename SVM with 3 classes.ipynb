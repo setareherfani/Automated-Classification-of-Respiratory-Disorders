{
 "cells": [
  {
   "cell_type": "markdown",
   "metadata": {},
   "source": [
    "# SVM 3 Classes (Healthy, COPD, Pneumonia)"
   ]
  },
  {
   "cell_type": "code",
   "execution_count": 1,
   "metadata": {},
   "outputs": [],
   "source": [
    "import pandas as pd\n",
    "import numpy as np"
   ]
  },
  {
   "cell_type": "code",
   "execution_count": 2,
   "metadata": {},
   "outputs": [],
   "source": [
    "path_demo = 'C:/Users/Setareh Erfani/Desktop/Respiratory_Sound_Database/demographic_info.txt'"
   ]
  },
  {
   "cell_type": "code",
   "execution_count": 3,
   "metadata": {},
   "outputs": [
    {
     "data": {
      "text/html": [
       "<div>\n",
       "<style scoped>\n",
       "    .dataframe tbody tr th:only-of-type {\n",
       "        vertical-align: middle;\n",
       "    }\n",
       "\n",
       "    .dataframe tbody tr th {\n",
       "        vertical-align: top;\n",
       "    }\n",
       "\n",
       "    .dataframe thead th {\n",
       "        text-align: right;\n",
       "    }\n",
       "</style>\n",
       "<table border=\"1\" class=\"dataframe\">\n",
       "  <thead>\n",
       "    <tr style=\"text-align: right;\">\n",
       "      <th></th>\n",
       "      <th>Patient number</th>\n",
       "      <th>Age</th>\n",
       "      <th>Sex</th>\n",
       "      <th>Adult BMI (kg/m2)</th>\n",
       "      <th>Child Weight (kg)</th>\n",
       "      <th>Child Height (cm)</th>\n",
       "    </tr>\n",
       "  </thead>\n",
       "  <tbody>\n",
       "    <tr>\n",
       "      <th>0</th>\n",
       "      <td>101</td>\n",
       "      <td>3.00</td>\n",
       "      <td>F</td>\n",
       "      <td>NaN</td>\n",
       "      <td>19.0</td>\n",
       "      <td>99.0</td>\n",
       "    </tr>\n",
       "    <tr>\n",
       "      <th>1</th>\n",
       "      <td>102</td>\n",
       "      <td>0.75</td>\n",
       "      <td>F</td>\n",
       "      <td>NaN</td>\n",
       "      <td>9.8</td>\n",
       "      <td>73.0</td>\n",
       "    </tr>\n",
       "    <tr>\n",
       "      <th>2</th>\n",
       "      <td>103</td>\n",
       "      <td>70.00</td>\n",
       "      <td>F</td>\n",
       "      <td>33.00</td>\n",
       "      <td>NaN</td>\n",
       "      <td>NaN</td>\n",
       "    </tr>\n",
       "    <tr>\n",
       "      <th>3</th>\n",
       "      <td>104</td>\n",
       "      <td>70.00</td>\n",
       "      <td>F</td>\n",
       "      <td>28.47</td>\n",
       "      <td>NaN</td>\n",
       "      <td>NaN</td>\n",
       "    </tr>\n",
       "    <tr>\n",
       "      <th>4</th>\n",
       "      <td>105</td>\n",
       "      <td>7.00</td>\n",
       "      <td>F</td>\n",
       "      <td>NaN</td>\n",
       "      <td>32.0</td>\n",
       "      <td>135.0</td>\n",
       "    </tr>\n",
       "  </tbody>\n",
       "</table>\n",
       "</div>"
      ],
      "text/plain": [
       "   Patient number    Age Sex  Adult BMI (kg/m2)  Child Weight (kg)  \\\n",
       "0             101   3.00   F                NaN               19.0   \n",
       "1             102   0.75   F                NaN                9.8   \n",
       "2             103  70.00   F              33.00                NaN   \n",
       "3             104  70.00   F              28.47                NaN   \n",
       "4             105   7.00   F                NaN               32.0   \n",
       "\n",
       "   Child Height (cm)  \n",
       "0               99.0  \n",
       "1               73.0  \n",
       "2                NaN  \n",
       "3                NaN  \n",
       "4              135.0  "
      ]
     },
     "execution_count": 3,
     "metadata": {},
     "output_type": "execute_result"
    }
   ],
   "source": [
    "df_demo = pd.read_csv('C:/Users/Setareh Erfani/Desktop/Respiratory_Sound_Database/demographic_info.txt', names = ['Patient number', 'Age', 'Sex' , 'Adult BMI (kg/m2)', 'Child Weight (kg)' , 'Child Height (cm)'],\n",
    "                             delimiter = ' ')\n",
    "df_demo.head()"
   ]
  },
  {
   "cell_type": "code",
   "execution_count": 4,
   "metadata": {},
   "outputs": [
    {
     "data": {
      "text/html": [
       "<div>\n",
       "<style scoped>\n",
       "    .dataframe tbody tr th:only-of-type {\n",
       "        vertical-align: middle;\n",
       "    }\n",
       "\n",
       "    .dataframe tbody tr th {\n",
       "        vertical-align: top;\n",
       "    }\n",
       "\n",
       "    .dataframe thead th {\n",
       "        text-align: right;\n",
       "    }\n",
       "</style>\n",
       "<table border=\"1\" class=\"dataframe\">\n",
       "  <thead>\n",
       "    <tr style=\"text-align: right;\">\n",
       "      <th></th>\n",
       "      <th>Patient number</th>\n",
       "      <th>Diagnosis</th>\n",
       "    </tr>\n",
       "  </thead>\n",
       "  <tbody>\n",
       "    <tr>\n",
       "      <th>0</th>\n",
       "      <td>101</td>\n",
       "      <td>URTI</td>\n",
       "    </tr>\n",
       "    <tr>\n",
       "      <th>1</th>\n",
       "      <td>102</td>\n",
       "      <td>Healthy</td>\n",
       "    </tr>\n",
       "    <tr>\n",
       "      <th>2</th>\n",
       "      <td>103</td>\n",
       "      <td>Asthma</td>\n",
       "    </tr>\n",
       "    <tr>\n",
       "      <th>3</th>\n",
       "      <td>104</td>\n",
       "      <td>COPD</td>\n",
       "    </tr>\n",
       "    <tr>\n",
       "      <th>4</th>\n",
       "      <td>105</td>\n",
       "      <td>URTI</td>\n",
       "    </tr>\n",
       "  </tbody>\n",
       "</table>\n",
       "</div>"
      ],
      "text/plain": [
       "   Patient number Diagnosis\n",
       "0             101      URTI\n",
       "1             102   Healthy\n",
       "2             103    Asthma\n",
       "3             104      COPD\n",
       "4             105      URTI"
      ]
     },
     "execution_count": 4,
     "metadata": {},
     "output_type": "execute_result"
    }
   ],
   "source": [
    "path_diag = 'C:/Users/Setareh Erfani/Desktop/Respiratory_Sound_Database/patient_diagnosis.csv'\n",
    "df_diag = pd.read_csv(path_diag, names = ['Patient number', 'Diagnosis'])\n",
    "df_diag.head()"
   ]
  },
  {
   "cell_type": "code",
   "execution_count": 5,
   "metadata": {},
   "outputs": [
    {
     "data": {
      "text/html": [
       "<div>\n",
       "<style scoped>\n",
       "    .dataframe tbody tr th:only-of-type {\n",
       "        vertical-align: middle;\n",
       "    }\n",
       "\n",
       "    .dataframe tbody tr th {\n",
       "        vertical-align: top;\n",
       "    }\n",
       "\n",
       "    .dataframe thead th {\n",
       "        text-align: right;\n",
       "    }\n",
       "</style>\n",
       "<table border=\"1\" class=\"dataframe\">\n",
       "  <thead>\n",
       "    <tr style=\"text-align: right;\">\n",
       "      <th></th>\n",
       "      <th>Patient number</th>\n",
       "      <th>Age</th>\n",
       "      <th>Sex</th>\n",
       "      <th>Adult BMI (kg/m2)</th>\n",
       "      <th>Child Weight (kg)</th>\n",
       "      <th>Child Height (cm)</th>\n",
       "      <th>Diagnosis</th>\n",
       "    </tr>\n",
       "  </thead>\n",
       "  <tbody>\n",
       "    <tr>\n",
       "      <th>0</th>\n",
       "      <td>101</td>\n",
       "      <td>3.00</td>\n",
       "      <td>F</td>\n",
       "      <td>NaN</td>\n",
       "      <td>19.0</td>\n",
       "      <td>99.0</td>\n",
       "      <td>URTI</td>\n",
       "    </tr>\n",
       "    <tr>\n",
       "      <th>1</th>\n",
       "      <td>102</td>\n",
       "      <td>0.75</td>\n",
       "      <td>F</td>\n",
       "      <td>NaN</td>\n",
       "      <td>9.8</td>\n",
       "      <td>73.0</td>\n",
       "      <td>Healthy</td>\n",
       "    </tr>\n",
       "    <tr>\n",
       "      <th>2</th>\n",
       "      <td>103</td>\n",
       "      <td>70.00</td>\n",
       "      <td>F</td>\n",
       "      <td>33.00</td>\n",
       "      <td>NaN</td>\n",
       "      <td>NaN</td>\n",
       "      <td>Asthma</td>\n",
       "    </tr>\n",
       "    <tr>\n",
       "      <th>3</th>\n",
       "      <td>104</td>\n",
       "      <td>70.00</td>\n",
       "      <td>F</td>\n",
       "      <td>28.47</td>\n",
       "      <td>NaN</td>\n",
       "      <td>NaN</td>\n",
       "      <td>COPD</td>\n",
       "    </tr>\n",
       "    <tr>\n",
       "      <th>4</th>\n",
       "      <td>105</td>\n",
       "      <td>7.00</td>\n",
       "      <td>F</td>\n",
       "      <td>NaN</td>\n",
       "      <td>32.0</td>\n",
       "      <td>135.0</td>\n",
       "      <td>URTI</td>\n",
       "    </tr>\n",
       "  </tbody>\n",
       "</table>\n",
       "</div>"
      ],
      "text/plain": [
       "   Patient number    Age Sex  Adult BMI (kg/m2)  Child Weight (kg)  \\\n",
       "0             101   3.00   F                NaN               19.0   \n",
       "1             102   0.75   F                NaN                9.8   \n",
       "2             103  70.00   F              33.00                NaN   \n",
       "3             104  70.00   F              28.47                NaN   \n",
       "4             105   7.00   F                NaN               32.0   \n",
       "\n",
       "   Child Height (cm) Diagnosis  \n",
       "0               99.0      URTI  \n",
       "1               73.0   Healthy  \n",
       "2                NaN    Asthma  \n",
       "3                NaN      COPD  \n",
       "4              135.0      URTI  "
      ]
     },
     "execution_count": 5,
     "metadata": {},
     "output_type": "execute_result"
    }
   ],
   "source": [
    "df =  df_demo.join(df_diag.set_index('Patient number'), on = 'Patient number', how = 'left')\n",
    "df.head()"
   ]
  },
  {
   "cell_type": "code",
   "execution_count": 6,
   "metadata": {},
   "outputs": [],
   "source": [
    "path_data = 'C:/Users/Setareh Erfani/Desktop/Respiratory_Sound_Database/audio_and_txt_files'"
   ]
  },
  {
   "cell_type": "code",
   "execution_count": 7,
   "metadata": {},
   "outputs": [],
   "source": [
    "import os\n",
    "from os import listdir\n",
    "from os.path import isfile\n",
    "from os.path import join\n",
    "\n",
    "filenames = [f for f in listdir(path_data) if (isfile(join(path_data, f)) and f.endswith('.wav'))] \n",
    "Txt_files = [f for f in listdir(path_data) if (isfile(join(path_data, f)) and f.endswith('.txt'))]"
   ]
  },
  {
   "cell_type": "code",
   "execution_count": 8,
   "metadata": {},
   "outputs": [],
   "source": [
    "def Antn_Data(file_name, root):\n",
    "    tokens = file_name.split('_')\n",
    "    recording_info = pd.DataFrame(data = [tokens], columns = ['Patient number', 'Recording index', 'Chest location','Acquisition mode','Recording equipment'])\n",
    "    recording_annotations = pd.read_csv(os.path.join(root, file_name), names = ['Start', 'End', 'Crackles', 'Wheezes'], delimiter= '\\t')\n",
    "    return (recording_info, recording_annotations)"
   ]
  },
  {
   "cell_type": "code",
   "execution_count": 9,
   "metadata": {},
   "outputs": [
    {
     "data": {
      "text/html": [
       "<div>\n",
       "<style scoped>\n",
       "    .dataframe tbody tr th:only-of-type {\n",
       "        vertical-align: middle;\n",
       "    }\n",
       "\n",
       "    .dataframe tbody tr th {\n",
       "        vertical-align: top;\n",
       "    }\n",
       "\n",
       "    .dataframe thead th {\n",
       "        text-align: right;\n",
       "    }\n",
       "</style>\n",
       "<table border=\"1\" class=\"dataframe\">\n",
       "  <thead>\n",
       "    <tr style=\"text-align: right;\">\n",
       "      <th></th>\n",
       "      <th>Patient number</th>\n",
       "      <th>Recording index</th>\n",
       "      <th>Chest location</th>\n",
       "      <th>Acquisition mode</th>\n",
       "      <th>Recording equipment</th>\n",
       "    </tr>\n",
       "  </thead>\n",
       "  <tbody>\n",
       "    <tr>\n",
       "      <th>0</th>\n",
       "      <td>101</td>\n",
       "      <td>1b1</td>\n",
       "      <td>Al</td>\n",
       "      <td>sc</td>\n",
       "      <td>Meditron.txt</td>\n",
       "    </tr>\n",
       "    <tr>\n",
       "      <th>0</th>\n",
       "      <td>101</td>\n",
       "      <td>1b1</td>\n",
       "      <td>Pr</td>\n",
       "      <td>sc</td>\n",
       "      <td>Meditron.txt</td>\n",
       "    </tr>\n",
       "    <tr>\n",
       "      <th>0</th>\n",
       "      <td>102</td>\n",
       "      <td>1b1</td>\n",
       "      <td>Ar</td>\n",
       "      <td>sc</td>\n",
       "      <td>Meditron.txt</td>\n",
       "    </tr>\n",
       "    <tr>\n",
       "      <th>0</th>\n",
       "      <td>103</td>\n",
       "      <td>2b2</td>\n",
       "      <td>Ar</td>\n",
       "      <td>mc</td>\n",
       "      <td>LittC2SE.txt</td>\n",
       "    </tr>\n",
       "    <tr>\n",
       "      <th>0</th>\n",
       "      <td>104</td>\n",
       "      <td>1b1</td>\n",
       "      <td>Al</td>\n",
       "      <td>sc</td>\n",
       "      <td>Litt3200.txt</td>\n",
       "    </tr>\n",
       "  </tbody>\n",
       "</table>\n",
       "</div>"
      ],
      "text/plain": [
       "  Patient number Recording index Chest location Acquisition mode  \\\n",
       "0            101             1b1             Al               sc   \n",
       "0            101             1b1             Pr               sc   \n",
       "0            102             1b1             Ar               sc   \n",
       "0            103             2b2             Ar               mc   \n",
       "0            104             1b1             Al               sc   \n",
       "\n",
       "  Recording equipment  \n",
       "0        Meditron.txt  \n",
       "0        Meditron.txt  \n",
       "0        Meditron.txt  \n",
       "0        LittC2SE.txt  \n",
       "0        Litt3200.txt  "
      ]
     },
     "execution_count": 9,
     "metadata": {},
     "output_type": "execute_result"
    }
   ],
   "source": [
    "tst_list = []\n",
    "annotations = []\n",
    "annotations_dict = {}\n",
    "for kk in Txt_files:\n",
    "    (i,a) = Antn_Data(kk, path_data)\n",
    "    tst_list.append(i)\n",
    "    annotations.append(a)\n",
    "    annotations_dict[kk] = a\n",
    "recording_info = pd.concat(tst_list, axis = 0)\n",
    "recording_info.head()"
   ]
  },
  {
   "cell_type": "code",
   "execution_count": 10,
   "metadata": {},
   "outputs": [],
   "source": [
    "duration_list = []\n",
    "for i in range(len(annotations)):\n",
    "    current = annotations[i]\n",
    "    duration = current['End'] - current['Start']\n",
    "    duration_list.extend(duration)"
   ]
  },
  {
   "cell_type": "code",
   "execution_count": 11,
   "metadata": {},
   "outputs": [
    {
     "name": "stdout",
     "output_type": "stream",
     "text": [
      "longest cycle:16.163\n",
      "shortest cycle:0.20000000000000284\n",
      "mean cycle:2.7005090852420994\n",
      "mean+std cycle:5.045407366007572\n"
     ]
    },
    {
     "name": "stderr",
     "output_type": "stream",
     "text": [
      "\n",
      "Bad key \"text.kerning_factor\" on line 4 in\n",
      "C:\\Users\\Setareh Erfani\\anaconda3\\envs\\deeplearning\\lib\\site-packages\\matplotlib\\mpl-data\\stylelib\\_classic_test_patch.mplstyle.\n",
      "You probably need to get an updated matplotlibrc file from\n",
      "https://github.com/matplotlib/matplotlib/blob/v3.1.3/matplotlibrc.template\n",
      "or from the matplotlib source distribution\n"
     ]
    },
    {
     "data": {
      "image/png": "[encoded data removed]",
      "text/plain": [
       "<Figure size 432x288 with 1 Axes>"
      ]
     },
     "metadata": {
      "needs_background": "light"
     },
     "output_type": "display_data"
    }
   ],
   "source": [
    "import matplotlib.pyplot as plt\n",
    "duration_list = np.array(duration_list)\n",
    "plt.hist(duration_list, bins = 50)\n",
    "print('longest cycle:{}'.format(max(duration_list)))\n",
    "print('shortest cycle:{}'.format(min(duration_list)))\n",
    "print('mean cycle:{}'.format(np.mean(duration_list)))\n",
    "print('mean+std cycle:{}'.format(np.mean(duration_list)+2*np.std(duration_list)))"
   ]
  },
  {
   "cell_type": "code",
   "execution_count": 12,
   "metadata": {},
   "outputs": [
    {
     "name": "stdout",
     "output_type": "stream",
     "text": [
      "Fraction of samples less than 5 seconds:0.9660771238040011\n"
     ]
    }
   ],
   "source": [
    "threshold =int(np.mean(duration_list)+2*np.std(duration_list))\n",
    "print('Fraction of samples less than {} seconds:{}'.format(threshold,\n",
    "                                                           np.sum(duration_list < threshold)/len(duration_list)))\n",
    "\n"
   ]
  },
  {
   "cell_type": "code",
   "execution_count": 13,
   "metadata": {},
   "outputs": [],
   "source": [
    "p_id_file = [] # patient IDs corresponding to each file\n",
    "for name in filenames:\n",
    "    p_id_file.append(int(name[:3]))\n",
    "\n",
    "p_id_file = np.array(p_id_file) \n",
    "\n",
    "p_id_cndt = {} # patient IDs corresponding to each file\n",
    "for i in range(df_diag.shape[0]):\n",
    "    for j in range(p_id_file.shape[0]):\n",
    "        if p_id_file[j]==df_diag['Patient number'][i]:\n",
    "            p_id_cndt[j]=df_diag['Diagnosis'][i]\n",
    "                 \n",
    "filepaths = [join(path_data, f) for f in filenames]\n",
    "\n",
    "labels = np.array([df_diag[df_diag['Patient number'] == x]['Diagnosis'].values[0] for x in p_id_file]) # labels for audio files"
   ]
  },
  {
   "cell_type": "code",
   "execution_count": 14,
   "metadata": {},
   "outputs": [],
   "source": [
    "N_Data={}\n",
    "Env_data_spl={}\n",
    "Row_data_spl={}\n",
    "labels_new=[]\n",
    "p_id_new=[]\n",
    "p_cndt_new = []\n",
    "\n",
    "len_sec=5\n",
    "pcs=4\n",
    "\n",
    "for i in range(920):\n",
    "\n",
    "    for j in range(pcs):\n",
    "\n",
    "        labels_new.append(labels[i])\n",
    "        p_id_new.append(p_id_file[i])\n",
    "        p_cndt_new.append(p_id_cndt[i])\n",
    "\n",
    "p_id_new=np.array(p_id_new)\n",
    "labels_new=np.array(labels_new)"
   ]
  },
  {
   "cell_type": "code",
   "execution_count": 15,
   "metadata": {},
   "outputs": [],
   "source": [
    "#Loading features files\n",
    "path= 'C:/Users/Setareh Erfani/Desktop/T_features_s.xlsx'\n",
    "T_features_s=pd.read_excel(path)\n",
    "T_features_s=T_features_s.iloc[:,1:T_features_s.shape[1]]\n",
    "T_features_s=T_features_s.values\n",
    "\n"
   ]
  },
  {
   "cell_type": "code",
   "execution_count": 16,
   "metadata": {},
   "outputs": [],
   "source": [
    "path='C:/Users/Setareh Erfani/Desktop/F_features_s.xlsx'\n",
    "F_features_s=pd.read_excel(path)\n",
    "F_features_s=F_features_s.iloc[:,1:F_features_s.shape[1]]\n",
    "F_features_s=F_features_s.values"
   ]
  },
  {
   "cell_type": "code",
   "execution_count": 17,
   "metadata": {},
   "outputs": [],
   "source": [
    "path='C:/Users/Setareh Erfani/Desktop/S_features_s.xlsx'\n",
    "S_features_s=pd.read_excel(path)\n",
    "S_features_s=S_features_s.iloc[:,1:S_features_s.shape[1]]\n",
    "S_features_s=S_features_s.values"
   ]
  },
  {
   "cell_type": "code",
   "execution_count": 18,
   "metadata": {},
   "outputs": [],
   "source": [
    "# appending copd index with patient ids\n",
    "\n",
    "COPD_idx=[] \n",
    "for idx in range(len(p_id_new)):\n",
    "    if p_cndt_new[idx] == 'COPD':\n",
    "        COPD_idx.append(idx)\n",
    "\n",
    "COPD_idx=np.array(COPD_idx)\n",
    "\n",
    "# appending healthy index with patient ids\n",
    "\n",
    "healthy=[] \n",
    "for idx in range(len(p_id_new)):\n",
    "    if p_cndt_new[idx] == 'Healthy':\n",
    "        healthy.append(idx)\n",
    "healthy=np.array(healthy)\n",
    "\n",
    "# appending bronchiectasis index with patient ids\n",
    "\n",
    "Bronchiectasis=[]      \n",
    "for idx in range(len(p_id_new)):\n",
    "    if p_cndt_new[idx] == 'Bronchiectasis':\n",
    "        Bronchiectasis.append(idx)\n",
    "\n",
    "Bronchiectasis=np.array(Bronchiectasis)\n",
    "\n",
    "\n",
    "# appending bronchiolitis index with patient ids\n",
    "\n",
    "Bronchiolitis=[]      \n",
    "for idx in range(len(p_id_new)):\n",
    "    if p_cndt_new[idx] == 'Bronchiolitis':\n",
    "        Bronchiolitis.append(idx)\n",
    "\n",
    "Bronchiolitis=np.array(Bronchiolitis)\n",
    "\n",
    "# appending pneumonia index with patient ids\n",
    "\n",
    "Pneumonia=[]      \n",
    "for idx in range(len(p_id_new)):\n",
    "    if p_cndt_new[idx] == 'Pneumonia':\n",
    "        Pneumonia.append(idx)\n",
    "\n",
    "Pneumonia=np.array(Pneumonia)\n",
    "\n",
    "# appending lower respiratory tract infection index with patient ids\n",
    "\n",
    "LRTI=[]      \n",
    "for idx in range(len(p_id_new)):\n",
    "    if p_cndt_new[idx] == 'LRTI':\n",
    "        LRTI.append(idx)\n",
    "\n",
    "LRTI=np.array(LRTI)\n",
    "\n",
    "\n",
    "# appending upper respiratory tract infection index with patient ids\n",
    "\n",
    "URTI=[]      \n",
    "for idx in range(len(p_id_new)):\n",
    "    if p_cndt_new[idx] == 'URTI':\n",
    "        URTI.append(idx)\n",
    "\n",
    "URTI=np.array(URTI)"
   ]
  },
  {
   "cell_type": "markdown",
   "metadata": {},
   "source": [
    "# SVM 3 Classes\n"
   ]
  },
  {
   "cell_type": "code",
   "execution_count": 19,
   "metadata": {},
   "outputs": [],
   "source": [
    "def Unvr_FS(Features,label,N_F):\n",
    "    \n",
    "    X=Features\n",
    "    y=label\n",
    "    #Univariate Feature Selection\n",
    "    # Split dataset to select feature and evaluate the classifier\n",
    "    X_train, X_test, y_train, y_test = train_test_split(X, y,train_size=.75,\n",
    "                                                        stratify=y, random_state=0)\n",
    "    plt.figure(1)\n",
    "    plt.clf()\n",
    "    \n",
    "    X_indices = np.arange(X.shape[-1])\n",
    "    selector = SelectKBest(f_classif, N_F)\n",
    "    selector.fit(X_train, y_train)\n",
    "    scores = -np.log10(selector.pvalues_)\n",
    "    features_score = scores/max(scores)\n",
    "    # Compare to the weights of an SVM\n",
    "    clf = make_pipeline(MinMaxScaler(), LinearSVC())\n",
    "    clf.fit(X_train, y_train)\n",
    "    print('Classification accuracy befor univariate feature selection: {:.3f}'\n",
    "          .format(clf.score(X_test, y_test)))\n",
    "    pred_n = clf.predict(X_test)\n",
    "    svm_weights = np.abs(clf[-1].coef_).sum(axis=0)\n",
    "    svm_weights /= svm_weights.sum()\n",
    "    svm_weights=svm_weights/max(svm_weights)\n",
    "    plt.bar(X_indices - .25, svm_weights, width=.2, label='SVM weight',\n",
    "        color='black', edgecolor='black')\n",
    "    clf_selected = make_pipeline(SelectKBest(f_classif, N_F), MinMaxScaler(), LinearSVC())\n",
    "    clf_selected.fit(X_train, y_train)\n",
    "    pred_fs = clf_selected.predict(X_test)\n",
    "    print('Classification accuracy after univariate feature selection: {:.3f}'\n",
    "          .format(clf_selected.score(X_test, y_test)))\n",
    "    svm_weights_selected = np.abs(clf_selected[-1].coef_).sum(axis=0)\n",
    "    svm_weights_selected /= svm_weights_selected.sum()\n",
    "    svm_weights_selected=svm_weights_selected/max(svm_weights_selected)\n",
    "    plt.bar(X_indices[selector.get_support()] - .05, svm_weights_selected,\n",
    "            width=.2, label='SVM weights after selection', color='blue', edgecolor='blue')\n",
    "    plt.title(\"Comparing feature selection\")\n",
    "    plt.xlabel('Feature index')\n",
    "    plt.ylabel('Normalized feature Score')\n",
    "    plt.yticks(())\n",
    "    plt.axis('tight')\n",
    "    plt.legend(loc='upper right')\n",
    "    plt.show()\n",
    "    \n",
    "    return features_score,y_test,pred_n,pred_fs\n",
    "\n"
   ]
  },
  {
   "cell_type": "code",
   "execution_count": 21,
   "metadata": {},
   "outputs": [],
   "source": [
    "path_s_features_s = 'C:/Users/Setareh Erfani/Desktop/S_features_s.xlsx'\n",
    "\n",
    "S_features_s=pd.read_excel(path_s_features_s)\n",
    "S_features_s=S_features_s.iloc[:,1:S_features_s.shape[1]]\n",
    "S_features_s=S_features_s.values\n",
    "\n"
   ]
  },
  {
   "cell_type": "code",
   "execution_count": 22,
   "metadata": {},
   "outputs": [],
   "source": [
    "goal_features=S_features_s\n",
    "goal_labels=np.array(labels_new)"
   ]
  },
  {
   "cell_type": "code",
   "execution_count": 23,
   "metadata": {},
   "outputs": [],
   "source": [
    "c_names = [ 'Healthy', 'COPD', 'Pneumonia']\n",
    "num_clss = len(c_names)\n",
    "\n",
    "N_smpls=140\n",
    "N_features=goal_features.shape[1]"
   ]
  },
  {
   "cell_type": "code",
   "execution_count": 24,
   "metadata": {},
   "outputs": [],
   "source": [
    "COPD_idx=[] \n",
    "\n",
    "for idx in range(len(p_id_new)):\n",
    "\n",
    "    if p_cndt_new[idx] == 'COPD':\n",
    "\n",
    "        COPD_idx.append(idx)\n",
    "\n",
    "\n",
    "\n",
    "COPD_idx=np.array(COPD_idx)\n",
    "\n",
    "\n",
    "healthy=[] \n",
    "\n",
    "for idx in range(len(p_id_new)):\n",
    "\n",
    "    if p_cndt_new[idx] == 'Healthy':\n",
    "\n",
    "        healthy.append(idx)\n",
    "\n",
    "        \n",
    "\n",
    "healthy=np.array(healthy)\n",
    "\n",
    "\n",
    "Pneumonia=[]      \n",
    "\n",
    "for idx in range(len(p_id_new)):\n",
    "\n",
    "    if p_cndt_new[idx] == 'Pneumonia':\n",
    "\n",
    "        Pneumonia.append(idx)\n",
    "\n",
    "\n",
    "\n",
    "Pneumonia=np.array(Pneumonia)"
   ]
  },
  {
   "cell_type": "code",
   "execution_count": 25,
   "metadata": {},
   "outputs": [],
   "source": [
    "healthy_sample=goal_features[healthy,:]\n",
    "healthy_sample=healthy_sample.reshape(N_smpls,N_features)\n",
    "l_h=0*np.ones(healthy_sample.shape[0])\n",
    "\n",
    "copd_ids=pd.DataFrame(COPD_idx).sample(n = N_smpls) \n",
    "copd_ids = np.array(copd_ids)\n",
    "copd_sample=goal_features[copd_ids,:]\n",
    "copd_sample=copd_sample.reshape(N_smpls,N_features)\n",
    "c_h=np.ones(copd_sample.shape[0])\n",
    "\n",
    "\n",
    "Pneumonia_ids=pd.DataFrame(Pneumonia).sample(n = N_smpls) \n",
    "Pneumonia_ids = np.array(Pneumonia_ids)\n",
    "Pneumonia_sample=goal_features[Pneumonia_ids,:]\n",
    "Pneumonia_sample=Pneumonia_sample.reshape(N_smpls,N_features)\n",
    "pn_h=2*np.ones(Pneumonia_sample.shape[0])"
   ]
  },
  {
   "cell_type": "code",
   "execution_count": 26,
   "metadata": {},
   "outputs": [],
   "source": [
    "all_feats=np.vstack((healthy_sample,copd_sample,Pneumonia_sample))\n",
    "  \n",
    "i_labels_n=np.hstack((l_h,c_h,pn_h))\n",
    "Labels_eq=pd.DataFrame(['healthy','copd','Pneumonia']) "
   ]
  },
  {
   "cell_type": "code",
   "execution_count": 27,
   "metadata": {},
   "outputs": [
    {
     "name": "stdout",
     "output_type": "stream",
     "text": [
      "[[  0.   1.   2.]\n",
      " [140. 140. 140.]]\n"
     ]
    },
    {
     "data": {
      "image/png": "[encoded data removed]",
      "text/plain": [
       "<Figure size 720x432 with 1 Axes>"
      ]
     },
     "metadata": {
      "needs_background": "light"
     },
     "output_type": "display_data"
    }
   ],
   "source": [
    "unique_elements, counts_elements = np.unique(i_labels_n, return_counts=True)\n",
    "print(np.asarray((unique_elements, counts_elements)))\n",
    "#plot the quantity of conditions\n",
    "y_pos = np.arange(len(unique_elements))\n",
    "plt.figure(figsize=(10,6))\n",
    "plt.bar(unique_elements, counts_elements, align='center', alpha=0.5,color='b')\n",
    "plt.xticks(y_pos, unique_elements)\n",
    "plt.ylabel('Count')\n",
    "plt.xlabel('Disease')\n",
    "plt.title('Disease Count in Sound Files')\n",
    "plt.show()\n"
   ]
  },
  {
   "cell_type": "code",
   "execution_count": 28,
   "metadata": {},
   "outputs": [
    {
     "name": "stderr",
     "output_type": "stream",
     "text": [
      "Using TensorFlow backend.\n"
     ]
    }
   ],
   "source": [
    "from sklearn.preprocessing import LabelEncoder\n",
    "from keras.utils.np_utils import to_categorical\n",
    "from sklearn.preprocessing import OneHotEncoder\n",
    "le = LabelEncoder()\n",
    "i_labels = le.fit_transform(goal_labels)"
   ]
  },
  {
   "cell_type": "code",
   "execution_count": 29,
   "metadata": {},
   "outputs": [
    {
     "name": "stderr",
     "output_type": "stream",
     "text": [
      "C:\\Users\\Setareh Erfani\\anaconda3\\envs\\deeplearning\\lib\\site-packages\\sklearn\\feature_selection\\univariate_selection.py:114: UserWarning: Features [403 787] are constant.\n",
      "  UserWarning)\n",
      "C:\\Users\\Setareh Erfani\\anaconda3\\envs\\deeplearning\\lib\\site-packages\\sklearn\\feature_selection\\univariate_selection.py:115: RuntimeWarning: invalid value encountered in true_divide\n",
      "  f = msb / msw\n",
      "C:\\Users\\Setareh Erfani\\anaconda3\\envs\\deeplearning\\lib\\site-packages\\sklearn\\svm\\base.py:929: ConvergenceWarning: Liblinear failed to converge, increase the number of iterations.\n",
      "  \"the number of iterations.\", ConvergenceWarning)\n"
     ]
    },
    {
     "name": "stdout",
     "output_type": "stream",
     "text": [
      "Classification accuracy befor univariate feature selection: 0.762\n"
     ]
    },
    {
     "name": "stderr",
     "output_type": "stream",
     "text": [
      "C:\\Users\\Setareh Erfani\\anaconda3\\envs\\deeplearning\\lib\\site-packages\\sklearn\\feature_selection\\univariate_selection.py:114: UserWarning: Features [403 787] are constant.\n",
      "  UserWarning)\n",
      "C:\\Users\\Setareh Erfani\\anaconda3\\envs\\deeplearning\\lib\\site-packages\\sklearn\\feature_selection\\univariate_selection.py:115: RuntimeWarning: invalid value encountered in true_divide\n",
      "  f = msb / msw\n",
      "C:\\Users\\Setareh Erfani\\anaconda3\\envs\\deeplearning\\lib\\site-packages\\sklearn\\svm\\base.py:929: ConvergenceWarning: Liblinear failed to converge, increase the number of iterations.\n",
      "  \"the number of iterations.\", ConvergenceWarning)\n"
     ]
    },
    {
     "name": "stdout",
     "output_type": "stream",
     "text": [
      "Classification accuracy after univariate feature selection: 0.829\n"
     ]
    },
    {
     "data": {
      "image/png": "[encoded data removed]",
      "text/plain": [
       "<Figure size 432x288 with 1 Axes>"
      ]
     },
     "metadata": {
      "needs_background": "light"
     },
     "output_type": "display_data"
    }
   ],
   "source": [
    "from sklearn.feature_selection import SelectKBest\n",
    "from sklearn.feature_selection import f_classif\n",
    "from sklearn.pipeline import make_pipeline\n",
    "from sklearn.preprocessing import MinMaxScaler\n",
    "from sklearn.svm import LinearSVC\n",
    "from sklearn.model_selection import train_test_split\n",
    "\n",
    "\n",
    "feat_score,y_test,pred_n,pred_fs=Unvr_FS(all_feats,i_labels_n,500)\n"
   ]
  },
  {
   "cell_type": "code",
   "execution_count": 30,
   "metadata": {},
   "outputs": [
    {
     "name": "stdout",
     "output_type": "stream",
     "text": [
      "[[24  2  9]\n",
      " [ 2 29  4]\n",
      " [ 6  2 27]]\n",
      "[[28  0  7]\n",
      " [ 2 29  4]\n",
      " [ 3  2 30]]\n"
     ]
    }
   ],
   "source": [
    "from sklearn.metrics import accuracy_score\n",
    "from sklearn.metrics import confusion_matrix\n",
    "print(confusion_matrix(y_test, pred_n))\n",
    "print(confusion_matrix(y_test, pred_fs))\n"
   ]
  }
 ],
 "metadata": {
  "kernelspec": {
   "display_name": "Python 3",
   "language": "python",
   "name": "python3"
  },
  "language_info": {
   "codemirror_mode": {
    "name": "ipython",
    "version": 3
   },
   "file_extension": ".py",
   "mimetype": "text/x-python",
   "name": "python",
   "nbconvert_exporter": "python",
   "pygments_lexer": "ipython3",
   "version": "3.7.4"
  }
 },
 "nbformat": 4,
 "nbformat_minor": 4
}
